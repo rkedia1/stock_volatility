{
 "cells": [
  {
   "cell_type": "code",
   "execution_count": 104,
   "metadata": {
    "collapsed": true,
    "ExecuteTime": {
     "start_time": "2023-06-24T11:30:30.337496Z",
     "end_time": "2023-06-24T11:30:30.354497Z"
    }
   },
   "outputs": [],
   "source": [
    "import pandas as pd\n",
    "import pickle\n",
    "\n",
    "from helpers import *\n",
    "from supervised_ensemble import EnsembleObjective, Model\n",
    "\n",
    "\n",
    "def create_table(data, typ: str = 'mae'):\n",
    "    datasets = list()\n",
    "    for model in data:\n",
    "        df = pd.DataFrame(pd.DataFrame(data[model]).T[typ])\n",
    "        df.columns = [model]\n",
    "\n",
    "        datasets.append(df)\n",
    "\n",
    "    dataset = merge_dataframes(datasets).T\n",
    "    dataset['Technical Improvement'] = dataset['baseline'] - dataset['technical']\n",
    "    dataset['Sentiment Improvement'] = dataset['baseline'] - dataset['sentiment']\n",
    "    dataset['Combined Improvement'] = dataset['baseline'] - dataset['combined']\n",
    "\n",
    "    return dataset\n"
   ]
  },
  {
   "cell_type": "code",
   "execution_count": 105,
   "outputs": [],
   "source": [
    "datasets = dict()\n",
    "for window in range(2, 7):\n",
    "    filename = f'pickles/results_{window}.pkl'\n",
    "    with open(filename, 'rb') as handle:\n",
    "        data = pickle.load(handle)\n",
    "        datasets[window] = dict()\n",
    "        for typ in ['mae', 'mse']:\n",
    "            datasets[window][typ] = create_table(data, typ)"
   ],
   "metadata": {
    "collapsed": false,
    "ExecuteTime": {
     "start_time": "2023-06-24T11:30:31.399307Z",
     "end_time": "2023-06-24T11:30:31.491062Z"
    }
   }
  },
  {
   "cell_type": "code",
   "execution_count": 106,
   "outputs": [
    {
     "name": "stdout",
     "output_type": "stream",
     "text": [
      "     Model                Dataset     Score\n",
      "0   linear                  dummy  0.681300\n",
      "1   linear               baseline  0.536120\n",
      "2   linear              technical  0.433067\n",
      "3   linear              sentiment  0.519447\n",
      "4   linear               combined  0.430990\n",
      "5   linear  Technical Improvement  0.103054\n",
      "6   linear  Sentiment Improvement  0.016673\n",
      "7   linear   Combined Improvement  0.105130\n",
      "8       rf                  dummy  0.681300\n",
      "9       rf               baseline  0.594096\n",
      "10      rf              technical  0.466245\n",
      "11      rf              sentiment  0.514815\n",
      "12      rf               combined  0.460031\n",
      "13      rf  Technical Improvement  0.127851\n",
      "14      rf  Sentiment Improvement  0.079281\n",
      "15      rf   Combined Improvement  0.134065\n",
      "16      gb                  dummy  0.681300\n",
      "17      gb               baseline  0.495833\n",
      "18      gb              technical  0.434598\n",
      "19      gb              sentiment  0.489806\n",
      "20      gb               combined  0.433411\n",
      "21      gb  Technical Improvement  0.061235\n",
      "22      gb  Sentiment Improvement  0.006027\n",
      "23      gb   Combined Improvement  0.062422\n",
      "24    lgbm                  dummy  0.681300\n",
      "25    lgbm               baseline  0.496042\n",
      "26    lgbm              technical  0.443633\n",
      "27    lgbm              sentiment  0.492185\n",
      "28    lgbm               combined  0.439983\n",
      "29    lgbm  Technical Improvement  0.052410\n",
      "30    lgbm  Sentiment Improvement  0.003858\n",
      "31    lgbm   Combined Improvement  0.056059\n",
      "32     xgb                  dummy  0.681300\n",
      "33     xgb               baseline  0.507314\n",
      "34     xgb              technical  0.455610\n",
      "35     xgb              sentiment  0.507558\n",
      "36     xgb               combined  0.458049\n",
      "37     xgb  Technical Improvement  0.051703\n",
      "38     xgb  Sentiment Improvement  0.000000\n",
      "39     xgb   Combined Improvement  0.049264\n",
      "40     mlp                  dummy  0.681300\n",
      "41     mlp               baseline  0.494190\n",
      "42     mlp              technical  1.000000\n",
      "43     mlp              sentiment  0.486953\n",
      "44     mlp               combined  1.000000\n",
      "45     mlp  Technical Improvement  0.000000\n",
      "46     mlp  Sentiment Improvement  0.007237\n",
      "47     mlp   Combined Improvement  0.000000\n"
     ]
    }
   ],
   "source": [
    "def convert_altair(dataset: pd.DataFrame):\n",
    "    df = dataset.copy().stack().reset_index()\n",
    "    df.columns = ['Model', 'Dataset', 'Score']\n",
    "    df['Score'] = df['Score'].clip(0, 1)\n",
    "    return df\n",
    "\n",
    "\n",
    "df = convert_altair(datasets[2]['mae'])\n",
    "print(df)"
   ],
   "metadata": {
    "collapsed": false,
    "ExecuteTime": {
     "start_time": "2023-06-24T11:30:32.815225Z",
     "end_time": "2023-06-24T11:30:32.837254Z"
    }
   }
  },
  {
   "cell_type": "code",
   "execution_count": 119,
   "outputs": [
    {
     "data": {
      "text/html": "\n<div id=\"altair-viz-b021bb3b55fe469999ce0aa58311dbd8\"></div>\n<script type=\"text/javascript\">\n  var VEGA_DEBUG = (typeof VEGA_DEBUG == \"undefined\") ? {} : VEGA_DEBUG;\n  (function(spec, embedOpt){\n    let outputDiv = document.currentScript.previousElementSibling;\n    if (outputDiv.id !== \"altair-viz-b021bb3b55fe469999ce0aa58311dbd8\") {\n      outputDiv = document.getElementById(\"altair-viz-b021bb3b55fe469999ce0aa58311dbd8\");\n    }\n    const paths = {\n      \"vega\": \"https://cdn.jsdelivr.net/npm//vega@5?noext\",\n      \"vega-lib\": \"https://cdn.jsdelivr.net/npm//vega-lib?noext\",\n      \"vega-lite\": \"https://cdn.jsdelivr.net/npm//vega-lite@4.17.0?noext\",\n      \"vega-embed\": \"https://cdn.jsdelivr.net/npm//vega-embed@6?noext\",\n    };\n\n    function maybeLoadScript(lib, version) {\n      var key = `${lib.replace(\"-\", \"\")}_version`;\n      return (VEGA_DEBUG[key] == version) ?\n        Promise.resolve(paths[lib]) :\n        new Promise(function(resolve, reject) {\n          var s = document.createElement('script');\n          document.getElementsByTagName(\"head\")[0].appendChild(s);\n          s.async = true;\n          s.onload = () => {\n            VEGA_DEBUG[key] = version;\n            return resolve(paths[lib]);\n          };\n          s.onerror = () => reject(`Error loading script: ${paths[lib]}`);\n          s.src = paths[lib];\n        });\n    }\n\n    function showError(err) {\n      outputDiv.innerHTML = `<div class=\"error\" style=\"color:red;\">${err}</div>`;\n      throw err;\n    }\n\n    function displayChart(vegaEmbed) {\n      vegaEmbed(outputDiv, spec, embedOpt)\n        .catch(err => showError(`Javascript Error: ${err.message}<br>This usually means there's a typo in your chart specification. See the javascript console for the full traceback.`));\n    }\n\n    if(typeof define === \"function\" && define.amd) {\n      requirejs.config({paths});\n      require([\"vega-embed\"], displayChart, err => showError(`Error loading script: ${err.message}`));\n    } else {\n      maybeLoadScript(\"vega\", \"5\")\n        .then(() => maybeLoadScript(\"vega-lite\", \"4.17.0\"))\n        .then(() => maybeLoadScript(\"vega-embed\", \"6\"))\n        .catch(showError)\n        .then(() => displayChart(vegaEmbed));\n    }\n  })({\"config\": {\"view\": {\"continuousWidth\": 400, \"continuousHeight\": 300}}, \"hconcat\": [{\"data\": {\"name\": \"data-93398236229af8932c3e6f1ef51a2957\"}, \"mark\": \"bar\", \"encoding\": {\"column\": {\"field\": \"Dataset\", \"title\": \"\", \"type\": \"ordinal\"}, \"x\": {\"field\": \"Model\", \"title\": \"\", \"type\": \"ordinal\"}, \"y\": {\"aggregate\": \"sum\", \"field\": \"Score\", \"scale\": {\"clamp\": true, \"domain\": [0, 1]}, \"title\": \"MAE\", \"type\": \"quantitative\"}}, \"title\": \"MAE\"}, {\"data\": {\"name\": \"data-a6836d087c808caef34baec045a5a828\"}, \"mark\": \"bar\", \"encoding\": {\"column\": {\"field\": \"Dataset\", \"title\": \"\", \"type\": \"ordinal\"}, \"x\": {\"field\": \"Model\", \"title\": \"\", \"type\": \"ordinal\"}, \"y\": {\"aggregate\": \"sum\", \"field\": \"Score\", \"scale\": {\"clamp\": true, \"domain\": [0, 1]}, \"title\": \"MSE\", \"type\": \"quantitative\"}}, \"title\": \"MSE\"}], \"$schema\": \"https://vega.github.io/schema/vega-lite/v4.17.0.json\", \"datasets\": {\"data-93398236229af8932c3e6f1ef51a2957\": [{\"Model\": \"linear\", \"Dataset\": \"baseline\", \"Score\": 0.5361201616929195}, {\"Model\": \"linear\", \"Dataset\": \"combined\", \"Score\": 0.430990178769599}, {\"Model\": \"linear\", \"Dataset\": \"sentiment\", \"Score\": 0.5194468112423267}, {\"Model\": \"rf\", \"Dataset\": \"baseline\", \"Score\": 0.594096149029449}, {\"Model\": \"rf\", \"Dataset\": \"combined\", \"Score\": 0.4600306809540478}, {\"Model\": \"rf\", \"Dataset\": \"sentiment\", \"Score\": 0.5148146859622154}, {\"Model\": \"gb\", \"Dataset\": \"baseline\", \"Score\": 0.49583326177994314}, {\"Model\": \"gb\", \"Dataset\": \"combined\", \"Score\": 0.4334113835615428}, {\"Model\": \"gb\", \"Dataset\": \"sentiment\", \"Score\": 0.4898060619438723}, {\"Model\": \"lgbm\", \"Dataset\": \"baseline\", \"Score\": 0.4960424162093596}, {\"Model\": \"lgbm\", \"Dataset\": \"combined\", \"Score\": 0.43998327834385875}, {\"Model\": \"lgbm\", \"Dataset\": \"sentiment\", \"Score\": 0.4921848953315028}, {\"Model\": \"xgb\", \"Dataset\": \"baseline\", \"Score\": 0.5073135142401195}, {\"Model\": \"xgb\", \"Dataset\": \"combined\", \"Score\": 0.45804929155977997}, {\"Model\": \"xgb\", \"Dataset\": \"sentiment\", \"Score\": 0.5075577953110997}, {\"Model\": \"mlp\", \"Dataset\": \"baseline\", \"Score\": 0.49419036839685093}, {\"Model\": \"mlp\", \"Dataset\": \"combined\", \"Score\": 1.0}, {\"Model\": \"mlp\", \"Dataset\": \"sentiment\", \"Score\": 0.48695322430311416}], \"data-a6836d087c808caef34baec045a5a828\": [{\"Model\": \"linear\", \"Dataset\": \"baseline\", \"Score\": 0.7660386400440855}, {\"Model\": \"linear\", \"Dataset\": \"combined\", \"Score\": 0.5478410752308525}, {\"Model\": \"linear\", \"Dataset\": \"sentiment\", \"Score\": 0.729534947846356}, {\"Model\": \"rf\", \"Dataset\": \"baseline\", \"Score\": 0.9076641197184614}, {\"Model\": \"rf\", \"Dataset\": \"combined\", \"Score\": 0.5763585996981986}, {\"Model\": \"rf\", \"Dataset\": \"sentiment\", \"Score\": 0.6967843534816943}, {\"Model\": \"gb\", \"Dataset\": \"baseline\", \"Score\": 0.6819682754058605}, {\"Model\": \"gb\", \"Dataset\": \"combined\", \"Score\": 0.5528518713053833}, {\"Model\": \"gb\", \"Dataset\": \"sentiment\", \"Score\": 0.668851625601355}, {\"Model\": \"lgbm\", \"Dataset\": \"baseline\", \"Score\": 0.6751750682387677}, {\"Model\": \"lgbm\", \"Dataset\": \"combined\", \"Score\": 0.561604129885435}, {\"Model\": \"lgbm\", \"Dataset\": \"sentiment\", \"Score\": 0.6699012960036844}, {\"Model\": \"xgb\", \"Dataset\": \"baseline\", \"Score\": 0.7173026749565338}, {\"Model\": \"xgb\", \"Dataset\": \"combined\", \"Score\": 0.5952634529169237}, {\"Model\": \"xgb\", \"Dataset\": \"sentiment\", \"Score\": 0.6968530273527166}, {\"Model\": \"mlp\", \"Dataset\": \"baseline\", \"Score\": 0.6715896045018802}, {\"Model\": \"mlp\", \"Dataset\": \"combined\", \"Score\": 1.0}, {\"Model\": \"mlp\", \"Dataset\": \"sentiment\", \"Score\": 0.6720946986804215}]}}, {\"mode\": \"vega-lite\"});\n</script>",
      "text/plain": "alt.HConcatChart(...)"
     },
     "execution_count": 119,
     "metadata": {},
     "output_type": "execute_result"
    }
   ],
   "source": [
    "import altair as alt\n",
    "\n",
    "charts = dict()\n",
    "offset = 2\n",
    "for typ in ['MAE', 'MSE']:\n",
    "    dataset = convert_altair(datasets[offset][typ.lower()][['baseline', 'combined', 'sentiment']])\n",
    "    dataset.columns = [x.title() for x in dataset.columns]\n",
    "    cht = alt.Chart(dataset).mark_bar().encode(\n",
    "        x=alt.X('Model:O', title=''),\n",
    "        y=alt.Y('sum(Score):Q', title=typ.upper(),\n",
    "                scale=alt.Scale(domain=(0, 1), clamp=True)),\n",
    "        column=alt.Column('Dataset:O', title='')\n",
    "    ).properties(\n",
    "        title=typ,\n",
    "    )\n",
    "    charts[typ] = cht\n",
    "\n",
    "cht = charts['MAE'] | charts['MSE']\n",
    "cht.properties(title='14 Hour Ahead Volatility Accuracy')\n",
    "cht"
   ],
   "metadata": {
    "collapsed": false,
    "ExecuteTime": {
     "start_time": "2023-06-24T11:37:33.554828Z",
     "end_time": "2023-06-24T11:37:33.615942Z"
    }
   }
  },
  {
   "cell_type": "code",
   "execution_count": 118,
   "outputs": [
    {
     "name": "stdout",
     "output_type": "stream",
     "text": [
      "   Sentiment Improvement  Combined Improvement\n",
      "2               0.006027              0.062422\n",
      "3               0.005730              0.065537\n",
      "4               0.006171              0.072853\n",
      "5               0.007728              0.072909\n",
      "6               0.007530              0.081648\n"
     ]
    }
   ],
   "source": [
    "improvement = pd.DataFrame()\n",
    "for i in range(2, 7):\n",
    "    df = pd.DataFrame(datasets[i]['mae'][['Sentiment Improvement', 'Combined Improvement']].iloc[2]).T\n",
    "    df.index = [i]\n",
    "    improvement = pd.concat([improvement, df])\n",
    "print(improvement)"
   ],
   "metadata": {
    "collapsed": false,
    "ExecuteTime": {
     "start_time": "2023-06-24T11:36:15.116508Z",
     "end_time": "2023-06-24T11:36:15.126507Z"
    }
   }
  },
  {
   "cell_type": "code",
   "execution_count": 11,
   "outputs": [],
   "source": [
    "baseline_prediction = baseline['pred']\n",
    "baseline_prediction = remove_duplicate_index(baseline_prediction)\n",
    "\n",
    "bollinger_X = model.create_objective(X.copy(), 'bollinger')\n",
    "bollinger_prediction = model.simple_model(bollinger_X, Y.copy())['pred']\n",
    "\n"
   ],
   "metadata": {
    "collapsed": false,
    "ExecuteTime": {
     "start_time": "2023-06-21T16:51:39.900818Z",
     "end_time": "2023-06-21T16:51:40.042795Z"
    }
   }
  },
  {
   "cell_type": "code",
   "execution_count": 12,
   "outputs": [],
   "source": [
    "sentiment_data = model.create_twitter_datasets()"
   ],
   "metadata": {
    "collapsed": false,
    "ExecuteTime": {
     "start_time": "2023-06-21T16:52:31.331551Z",
     "end_time": "2023-06-21T16:52:35.450428Z"
    }
   }
  },
  {
   "cell_type": "code",
   "execution_count": 13,
   "outputs": [
    {
     "name": "stdout",
     "output_type": "stream",
     "text": [
      "                    Close  Adj Close  sentiment_score\n",
      "2021_06_07_ABEV  0.007752   0.007752         0.000000\n",
      "2021_06_07_ABNB -0.011676  -0.011676         0.191218\n",
      "2021_06_07_AZO  -0.001845  -0.001845         0.190217\n",
      "2021_06_07_BBY   0.009570   0.009570         0.017200\n",
      "2021_06_07_BKNG -0.007415  -0.007415         0.455900\n"
     ]
    }
   ],
   "source": [
    "sentiment_dataset = model.apply_sentiment_data(X.copy(), sentiment_data)\n",
    "sentiment_dataset.dropna(inplace=True)\n",
    "\n",
    "print(sentiment_dataset.head())"
   ],
   "metadata": {
    "collapsed": false,
    "ExecuteTime": {
     "start_time": "2023-06-21T16:53:09.244575Z",
     "end_time": "2023-06-21T16:53:09.670350Z"
    }
   }
  },
  {
   "cell_type": "code",
   "execution_count": null,
   "outputs": [],
   "source": [],
   "metadata": {
    "collapsed": false
   }
  }
 ],
 "metadata": {
  "kernelspec": {
   "display_name": "Python 3",
   "language": "python",
   "name": "python3"
  },
  "language_info": {
   "codemirror_mode": {
    "name": "ipython",
    "version": 2
   },
   "file_extension": ".py",
   "mimetype": "text/x-python",
   "name": "python",
   "nbconvert_exporter": "python",
   "pygments_lexer": "ipython2",
   "version": "2.7.6"
  }
 },
 "nbformat": 4,
 "nbformat_minor": 0
}
