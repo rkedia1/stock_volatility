{
 "cells": [
  {
   "cell_type": "code",
   "execution_count": 4,
   "metadata": {
    "collapsed": true,
    "ExecuteTime": {
     "start_time": "2023-06-24T08:57:18.997930Z",
     "end_time": "2023-06-24T08:57:19.021958Z"
    }
   },
   "outputs": [],
   "source": [
    "import pandas as pd\n",
    "import pickle\n",
    "\n",
    "from helpers import *\n",
    "from supervised_ensemble import EnsembleObjective, Model\n"
   ]
  },
  {
   "cell_type": "code",
   "execution_count": 5,
   "outputs": [],
   "source": [
    "with open('results.pkl', 'rb') as handle:\n",
    "    data = pickle.load(handle)"
   ],
   "metadata": {
    "collapsed": false,
    "ExecuteTime": {
     "start_time": "2023-06-24T08:57:19.801124Z",
     "end_time": "2023-06-24T08:57:19.941436Z"
    }
   }
  },
  {
   "cell_type": "code",
   "execution_count": 6,
   "outputs": [
    {
     "name": "stdout",
     "output_type": "stream",
     "text": [
      "{'linear': {'dummy': {'mae': 0.6813, 'mse': 0.8239}, 'baseline': {'mae': 0.5361201616929195, 'mse': 0.7660386400440855}, 'technical': {'mae': 0.43306665830237323, 'mse': 0.5515582813298978}, 'sentiment': {'mae': 0.5194468112423267, 'mse': 0.729534947846356}, 'combined': {'mae': 0.430990178769599, 'mse': 0.5478410752308525}}, 'rf': {'dummy': {'mae': 0.6813, 'mse': 0.8239}, 'baseline': {'mae': 0.5929851699936245, 'mse': 0.905506608216356}, 'technical': {'mae': 0.4664355237595072, 'mse': 0.5961010736382725}, 'sentiment': {'mae': 0.5152166951760209, 'mse': 0.6955565096147984}, 'combined': {'mae': 0.46144616471811056, 'mse': 0.5791421378315551}}, 'gb': {'dummy': {'mae': 0.6813, 'mse': 0.8239}, 'baseline': {'mae': 0.4958297651080678, 'mse': 0.6819637139548556}, 'technical': {'mae': 0.4345849911465788, 'mse': 0.5506272869402119}, 'sentiment': {'mae': 0.4897740618312486, 'mse': 0.6689852418241895}, 'combined': {'mae': 0.43345857915975844, 'mse': 0.5525217530858401}}, 'lgbm': {'dummy': {'mae': 0.6813, 'mse': 0.8239}, 'baseline': {'mae': 0.4960424162093596, 'mse': 0.6751750682387677}, 'technical': {'mae': 0.44363289024875713, 'mse': 0.5683613114112207}, 'sentiment': {'mae': 0.4921848953315028, 'mse': 0.6699012960036844}, 'combined': {'mae': 0.43998327834385875, 'mse': 0.561604129885435}}, 'xgb': {'dummy': {'mae': 0.6813, 'mse': 0.8239}, 'baseline': {'mae': 0.5073135142401195, 'mse': 0.7173026749565338}, 'technical': {'mae': 0.45561016939197063, 'mse': 0.5981082646125822}, 'sentiment': {'mae': 0.5075577953110997, 'mse': 0.6968530273527166}, 'combined': {'mae': 0.45804929155977997, 'mse': 0.5952634529169237}}, 'mlp': {'dummy': {'mae': 0.6813, 'mse': 0.8239}, 'baseline': {'mae': 0.4942429743521267, 'mse': 0.671052123745681}, 'technical': {'mae': 317.2887886673059, 'mse': 150319955.81013587}, 'sentiment': {'mae': 0.5019373956104498, 'mse': 0.6966595100870372}, 'combined': {'mae': 27.92067370507171, 'mse': 91352.92240663857}}}\n"
     ]
    }
   ],
   "source": [
    "print(data)"
   ],
   "metadata": {
    "collapsed": false,
    "ExecuteTime": {
     "start_time": "2023-06-24T08:57:20.963438Z",
     "end_time": "2023-06-24T08:57:20.979438Z"
    }
   }
  },
  {
   "cell_type": "code",
   "execution_count": 17,
   "outputs": [
    {
     "name": "stdout",
     "output_type": "stream",
     "text": [
      "         dummy  baseline   technical  sentiment   combined\n",
      "linear  0.6813  0.536120    0.433067   0.519447   0.430990\n",
      "rf      0.6813  0.592985    0.466436   0.515217   0.461446\n",
      "gb      0.6813  0.495830    0.434585   0.489774   0.433459\n",
      "lgbm    0.6813  0.496042    0.443633   0.492185   0.439983\n",
      "xgb     0.6813  0.507314    0.455610   0.507558   0.458049\n",
      "mlp     0.6813  0.494243  317.288789   0.501937  27.920674\n"
     ]
    }
   ],
   "source": [
    "# plt_datasets = dict()\n",
    "# for col in ['mae', 'mse']:\n",
    "#     dataset = pd.DataFrame(data[col]).stack().reset_index()\n",
    "#     dataset.columns = ['Dataset', 'Model', 'Score']\n",
    "#     print(dataset)\n",
    "#     plt_datasets[col] = dataset\n",
    "\n",
    "datasets = list()\n",
    "for model in data:\n",
    "    df = pd.DataFrame(pd.DataFrame(data[model]).T['mae'])\n",
    "    df.columns = [model]\n",
    "    datasets.append(df)\n",
    "\n",
    "mae = merge_dataframes(datasets).T\n",
    "\n",
    "print(mae)\n",
    "\n"
   ],
   "metadata": {
    "collapsed": false,
    "ExecuteTime": {
     "start_time": "2023-06-24T09:01:23.449705Z",
     "end_time": "2023-06-24T09:01:23.496080Z"
    }
   }
  },
  {
   "cell_type": "code",
   "execution_count": 6,
   "outputs": [
    {
     "data": {
      "text/html": "\n<div id=\"altair-viz-82b742da24af4c6a8b684e07e2731e6f\"></div>\n<script type=\"text/javascript\">\n  var VEGA_DEBUG = (typeof VEGA_DEBUG == \"undefined\") ? {} : VEGA_DEBUG;\n  (function(spec, embedOpt){\n    let outputDiv = document.currentScript.previousElementSibling;\n    if (outputDiv.id !== \"altair-viz-82b742da24af4c6a8b684e07e2731e6f\") {\n      outputDiv = document.getElementById(\"altair-viz-82b742da24af4c6a8b684e07e2731e6f\");\n    }\n    const paths = {\n      \"vega\": \"https://cdn.jsdelivr.net/npm//vega@5?noext\",\n      \"vega-lib\": \"https://cdn.jsdelivr.net/npm//vega-lib?noext\",\n      \"vega-lite\": \"https://cdn.jsdelivr.net/npm//vega-lite@4.17.0?noext\",\n      \"vega-embed\": \"https://cdn.jsdelivr.net/npm//vega-embed@6?noext\",\n    };\n\n    function maybeLoadScript(lib, version) {\n      var key = `${lib.replace(\"-\", \"\")}_version`;\n      return (VEGA_DEBUG[key] == version) ?\n        Promise.resolve(paths[lib]) :\n        new Promise(function(resolve, reject) {\n          var s = document.createElement('script');\n          document.getElementsByTagName(\"head\")[0].appendChild(s);\n          s.async = true;\n          s.onload = () => {\n            VEGA_DEBUG[key] = version;\n            return resolve(paths[lib]);\n          };\n          s.onerror = () => reject(`Error loading script: ${paths[lib]}`);\n          s.src = paths[lib];\n        });\n    }\n\n    function showError(err) {\n      outputDiv.innerHTML = `<div class=\"error\" style=\"color:red;\">${err}</div>`;\n      throw err;\n    }\n\n    function displayChart(vegaEmbed) {\n      vegaEmbed(outputDiv, spec, embedOpt)\n        .catch(err => showError(`Javascript Error: ${err.message}<br>This usually means there's a typo in your chart specification. See the javascript console for the full traceback.`));\n    }\n\n    if(typeof define === \"function\" && define.amd) {\n      requirejs.config({paths});\n      require([\"vega-embed\"], displayChart, err => showError(`Error loading script: ${err.message}`));\n    } else {\n      maybeLoadScript(\"vega\", \"5\")\n        .then(() => maybeLoadScript(\"vega-lite\", \"4.17.0\"))\n        .then(() => maybeLoadScript(\"vega-embed\", \"6\"))\n        .catch(showError)\n        .then(() => displayChart(vegaEmbed));\n    }\n  })({\"config\": {\"view\": {\"continuousWidth\": 400, \"continuousHeight\": 300}}, \"data\": {\"name\": \"data-d5fde6229e0db51daa0adfb3b5fae966\"}, \"mark\": \"bar\", \"encoding\": {\"column\": {\"field\": \"Dataset\", \"type\": \"ordinal\"}, \"x\": {\"field\": \"Model\", \"type\": \"ordinal\"}, \"y\": {\"aggregate\": \"sum\", \"field\": \"Score\", \"title\": \"MAE\", \"type\": \"quantitative\"}}, \"$schema\": \"https://vega.github.io/schema/vega-lite/v4.17.0.json\", \"datasets\": {\"data-d5fde6229e0db51daa0adfb3b5fae966\": [{\"Dataset\": \"Dummy\", \"Model\": \"linear\", \"Score\": 0.3899820737337287}, {\"Dataset\": \"Dummy\", \"Model\": \"rf\", \"Score\": 0.3899820737337287}, {\"Dataset\": \"Dummy\", \"Model\": \"gb\", \"Score\": 0.3899820737337287}, {\"Dataset\": \"Dummy\", \"Model\": \"lgbm\", \"Score\": 0.3899820737337287}, {\"Dataset\": \"Dummy\", \"Model\": \"xgb\", \"Score\": 0.3899820737337287}, {\"Dataset\": \"Sentiment\", \"Model\": \"linear\", \"Score\": 0.4241875699916789}, {\"Dataset\": \"Sentiment\", \"Model\": \"rf\", \"Score\": 0.44273592787953503}, {\"Dataset\": \"Sentiment\", \"Model\": \"gb\", \"Score\": 0.41297875145800617}, {\"Dataset\": \"Sentiment\", \"Model\": \"lgbm\", \"Score\": 0.42398829168108804}, {\"Dataset\": \"Sentiment\", \"Model\": \"xgb\", \"Score\": 0.4423398571922403}, {\"Dataset\": \"Technical\", \"Model\": \"linear\", \"Score\": 0.33696823831335887}, {\"Dataset\": \"Technical\", \"Model\": \"rf\", \"Score\": 0.35550083963180207}, {\"Dataset\": \"Technical\", \"Model\": \"gb\", \"Score\": 0.33349852299093197}, {\"Dataset\": \"Technical\", \"Model\": \"lgbm\", \"Score\": 0.33555050695634203}, {\"Dataset\": \"Technical\", \"Model\": \"xgb\", \"Score\": 0.3358658127246479}, {\"Dataset\": \"Sentiment Technical\", \"Model\": \"linear\", \"Score\": 0.32383340724407583}, {\"Dataset\": \"Sentiment Technical\", \"Model\": \"rf\", \"Score\": 0.3488113121743785}, {\"Dataset\": \"Sentiment Technical\", \"Model\": \"gb\", \"Score\": 0.3496902653378889}, {\"Dataset\": \"Sentiment Technical\", \"Model\": \"lgbm\", \"Score\": 0.33968705586302256}, {\"Dataset\": \"Sentiment Technical\", \"Model\": \"xgb\", \"Score\": 0.35916592632959266}, {\"Dataset\": \"Baseline\", \"Model\": \"linear\", \"Score\": 0.5413386898182442}, {\"Dataset\": \"Baseline\", \"Model\": \"rf\", \"Score\": 0.5174211985282141}, {\"Dataset\": \"Baseline\", \"Model\": \"gb\", \"Score\": 0.4604181249096229}, {\"Dataset\": \"Baseline\", \"Model\": \"lgbm\", \"Score\": 0.4571534661261149}, {\"Dataset\": \"Baseline\", \"Model\": \"xgb\", \"Score\": 0.4566792360377252}, {\"Dataset\": \"Actuals\", \"Model\": \"linear\", \"Score\": 0.0}, {\"Dataset\": \"Actuals\", \"Model\": \"rf\", \"Score\": 0.0}, {\"Dataset\": \"Actuals\", \"Model\": \"gb\", \"Score\": 0.0}, {\"Dataset\": \"Actuals\", \"Model\": \"lgbm\", \"Score\": 0.0}, {\"Dataset\": \"Actuals\", \"Model\": \"xgb\", \"Score\": 0.0}]}}, {\"mode\": \"vega-lite\"});\n</script>",
      "text/plain": "alt.Chart(...)"
     },
     "execution_count": 6,
     "metadata": {},
     "output_type": "execute_result"
    }
   ],
   "source": [
    "import altair as alt\n",
    "\n",
    "col = 'mae'\n",
    "cht = alt.Chart(plt_datasets[col]).mark_bar().encode(\n",
    "    x='Model:O',\n",
    "    y=alt.Y('sum(Score):Q', title=col.upper()),\n",
    "    column='Dataset:O'\n",
    ")\n",
    "\n",
    "cht"
   ],
   "metadata": {
    "collapsed": false,
    "ExecuteTime": {
     "start_time": "2023-06-22T19:00:59.667267Z",
     "end_time": "2023-06-22T19:00:59.700260Z"
    }
   }
  },
  {
   "cell_type": "code",
   "execution_count": 11,
   "outputs": [],
   "source": [
    "baseline_prediction = baseline['pred']\n",
    "baseline_prediction = remove_duplicate_index(baseline_prediction)\n",
    "\n",
    "bollinger_X = model.create_objective(X.copy(), 'bollinger')\n",
    "bollinger_prediction = model.simple_model(bollinger_X, Y.copy())['pred']\n",
    "\n"
   ],
   "metadata": {
    "collapsed": false,
    "ExecuteTime": {
     "start_time": "2023-06-21T16:51:39.900818Z",
     "end_time": "2023-06-21T16:51:40.042795Z"
    }
   }
  },
  {
   "cell_type": "code",
   "execution_count": 12,
   "outputs": [],
   "source": [
    "sentiment_data = model.create_twitter_datasets()"
   ],
   "metadata": {
    "collapsed": false,
    "ExecuteTime": {
     "start_time": "2023-06-21T16:52:31.331551Z",
     "end_time": "2023-06-21T16:52:35.450428Z"
    }
   }
  },
  {
   "cell_type": "code",
   "execution_count": 13,
   "outputs": [
    {
     "name": "stdout",
     "output_type": "stream",
     "text": [
      "                    Close  Adj Close  sentiment_score\n",
      "2021_06_07_ABEV  0.007752   0.007752         0.000000\n",
      "2021_06_07_ABNB -0.011676  -0.011676         0.191218\n",
      "2021_06_07_AZO  -0.001845  -0.001845         0.190217\n",
      "2021_06_07_BBY   0.009570   0.009570         0.017200\n",
      "2021_06_07_BKNG -0.007415  -0.007415         0.455900\n"
     ]
    }
   ],
   "source": [
    "sentiment_dataset = model.apply_sentiment_data(X.copy(), sentiment_data)\n",
    "sentiment_dataset.dropna(inplace=True)\n",
    "\n",
    "print(sentiment_dataset.head())"
   ],
   "metadata": {
    "collapsed": false,
    "ExecuteTime": {
     "start_time": "2023-06-21T16:53:09.244575Z",
     "end_time": "2023-06-21T16:53:09.670350Z"
    }
   }
  },
  {
   "cell_type": "code",
   "execution_count": null,
   "outputs": [],
   "source": [],
   "metadata": {
    "collapsed": false
   }
  }
 ],
 "metadata": {
  "kernelspec": {
   "display_name": "Python 3",
   "language": "python",
   "name": "python3"
  },
  "language_info": {
   "codemirror_mode": {
    "name": "ipython",
    "version": 2
   },
   "file_extension": ".py",
   "mimetype": "text/x-python",
   "name": "python",
   "nbconvert_exporter": "python",
   "pygments_lexer": "ipython2",
   "version": "2.7.6"
  }
 },
 "nbformat": 4,
 "nbformat_minor": 0
}
