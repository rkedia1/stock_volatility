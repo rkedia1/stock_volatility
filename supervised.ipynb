{
 "cells": [
  {
   "cell_type": "code",
   "execution_count": 1,
   "metadata": {
    "collapsed": true,
    "ExecuteTime": {
     "start_time": "2023-06-22T08:15:05.128873Z",
     "end_time": "2023-06-22T08:15:06.313075Z"
    }
   },
   "outputs": [],
   "source": [
    "import pandas as pd\n",
    "\n",
    "from helpers import *\n",
    "from supervised_ensemble import EnsembleObjective, Model\n"
   ]
  },
  {
   "cell_type": "code",
   "execution_count": 2,
   "outputs": [],
   "source": [
    "model = Model()"
   ],
   "metadata": {
    "collapsed": false,
    "ExecuteTime": {
     "start_time": "2023-06-22T08:15:06.314076Z",
     "end_time": "2023-06-22T08:15:06.372153Z"
    }
   }
  },
  {
   "cell_type": "code",
   "execution_count": 3,
   "outputs": [
    {
     "name": "stdout",
     "output_type": "stream",
     "text": [
      "linear\n",
      "Dummy\n",
      "Sentiment\n",
      "Technical\n",
      "Sentiment Technical\n",
      "Baseline\n",
      "Actuals\n",
      "rf\n",
      "Dummy\n",
      "Sentiment\n",
      "Technical\n",
      "Sentiment Technical\n",
      "Baseline\n",
      "Actuals\n",
      "gb\n",
      "Dummy\n",
      "Sentiment\n",
      "Technical\n",
      "Sentiment Technical\n",
      "Baseline\n",
      "Actuals\n",
      "lgbm\n",
      "Dummy\n",
      "Sentiment\n",
      "Technical\n",
      "Sentiment Technical\n",
      "Baseline\n",
      "Actuals\n",
      "xgb\n",
      "Dummy\n",
      "Sentiment\n",
      "Technical\n",
      "Sentiment Technical\n",
      "Baseline\n",
      "Actuals\n"
     ]
    }
   ],
   "source": [
    "data = model.run_analysis()"
   ],
   "metadata": {
    "collapsed": false,
    "ExecuteTime": {
     "start_time": "2023-06-22T08:15:07.357253Z",
     "end_time": "2023-06-22T08:16:51.922301Z"
    }
   }
  },
  {
   "cell_type": "code",
   "execution_count": 11,
   "outputs": [
    {
     "name": "stdout",
     "output_type": "stream",
     "text": [
      "                Dataset   Model     Score\n",
      "0                 Dummy  linear  0.442916\n",
      "1                 Dummy      rf  0.442916\n",
      "2                 Dummy      gb  0.442916\n",
      "3                 Dummy    lgbm  0.442916\n",
      "4                 Dummy     xgb  0.442916\n",
      "5             Sentiment  linear  0.494818\n",
      "6             Sentiment      rf  0.489840\n",
      "7             Sentiment      gb  0.444968\n",
      "8             Sentiment    lgbm  0.445749\n",
      "9             Sentiment     xgb  0.449426\n",
      "10            Technical  linear  0.358943\n",
      "11            Technical      rf  0.380237\n",
      "12            Technical      gb  0.354472\n",
      "13            Technical    lgbm  0.355609\n",
      "14            Technical     xgb  0.359673\n",
      "15  Sentiment Technical  linear  0.360368\n",
      "16  Sentiment Technical      rf  0.382833\n",
      "17  Sentiment Technical      gb  0.359268\n",
      "18  Sentiment Technical    lgbm  0.358067\n",
      "19  Sentiment Technical     xgb  0.362684\n",
      "20             Baseline  linear  0.508086\n",
      "21             Baseline      rf  0.523907\n",
      "22             Baseline      gb  0.445983\n",
      "23             Baseline    lgbm  0.443638\n",
      "24             Baseline     xgb  0.448250\n",
      "25              Actuals  linear  0.000000\n",
      "26              Actuals      rf  0.000000\n",
      "27              Actuals      gb  0.000000\n",
      "28              Actuals    lgbm  0.000000\n",
      "29              Actuals     xgb  0.000000\n",
      "                Dataset   Model     Score\n",
      "0                 Dummy  linear  0.626868\n",
      "1                 Dummy      rf  0.626868\n",
      "2                 Dummy      gb  0.626868\n",
      "3                 Dummy    lgbm  0.626868\n",
      "4                 Dummy     xgb  0.626868\n",
      "5             Sentiment  linear  0.477204\n",
      "6             Sentiment      rf  0.524036\n",
      "7             Sentiment      gb  0.430961\n",
      "8             Sentiment    lgbm  0.429638\n",
      "9             Sentiment     xgb  0.443004\n",
      "10            Technical  linear  0.359968\n",
      "11            Technical      rf  0.386905\n",
      "12            Technical      gb  0.354192\n",
      "13            Technical    lgbm  0.357356\n",
      "14            Technical     xgb  0.371571\n",
      "15  Sentiment Technical  linear  0.361038\n",
      "16  Sentiment Technical      rf  0.389613\n",
      "17  Sentiment Technical      gb  0.360478\n",
      "18  Sentiment Technical    lgbm  0.358653\n",
      "19  Sentiment Technical     xgb  0.372245\n",
      "20             Baseline  linear  0.491137\n",
      "21             Baseline      rf  0.658683\n",
      "22             Baseline      gb  0.437057\n",
      "23             Baseline    lgbm  0.421339\n",
      "24             Baseline     xgb  0.452279\n",
      "25              Actuals  linear  0.000000\n",
      "26              Actuals      rf  0.000000\n",
      "27              Actuals      gb  0.000000\n",
      "28              Actuals    lgbm  0.000000\n",
      "29              Actuals     xgb  0.000000\n"
     ]
    }
   ],
   "source": [
    "plt_datasets = dict()\n",
    "for col in ['mae', 'mse']:\n",
    "    dataset = pd.DataFrame(data[col]).stack().reset_index()\n",
    "    dataset.columns = ['Dataset', 'Model', 'Score']\n",
    "    print(dataset)\n",
    "    plt_datasets[col] = dataset"
   ],
   "metadata": {
    "collapsed": false,
    "ExecuteTime": {
     "start_time": "2023-06-22T17:24:29.648307Z",
     "end_time": "2023-06-22T17:24:29.671305Z"
    }
   }
  },
  {
   "cell_type": "code",
   "execution_count": null,
   "outputs": [],
   "source": [
    "import altair as alt\n",
    "\n",
    "cht = alt.Chart(plt_datasets[col]).mark_bar().encode(\n",
    "    x='Dataset:O',\n",
    "    y=alt.Y('sum(Score):Q', title=col.upper())\n",
    "    column='Model:O'\n",
    ")\n",
    "\n",
    "cht"
   ],
   "metadata": {
    "collapsed": false,
    "ExecuteTime": {
     "start_time": "2023-06-22T17:29:02.434548Z",
     "end_time": "2023-06-22T17:29:02.539850Z"
    },
    "pycharm": {
     "is_executing": true
    }
   }
  },
  {
   "cell_type": "code",
   "execution_count": 11,
   "outputs": [],
   "source": [
    "baseline_prediction = baseline['pred']\n",
    "baseline_prediction = remove_duplicate_index(baseline_prediction)\n",
    "\n",
    "bollinger_X = model.create_objective(X.copy(), 'bollinger')\n",
    "bollinger_prediction = model.simple_model(bollinger_X, Y.copy())['pred']\n",
    "\n"
   ],
   "metadata": {
    "collapsed": false,
    "ExecuteTime": {
     "start_time": "2023-06-21T16:51:39.900818Z",
     "end_time": "2023-06-21T16:51:40.042795Z"
    }
   }
  },
  {
   "cell_type": "code",
   "execution_count": 12,
   "outputs": [],
   "source": [
    "sentiment_data = model.create_twitter_datasets()"
   ],
   "metadata": {
    "collapsed": false,
    "ExecuteTime": {
     "start_time": "2023-06-21T16:52:31.331551Z",
     "end_time": "2023-06-21T16:52:35.450428Z"
    }
   }
  },
  {
   "cell_type": "code",
   "execution_count": 13,
   "outputs": [
    {
     "name": "stdout",
     "output_type": "stream",
     "text": [
      "                    Close  Adj Close  sentiment_score\n",
      "2021_06_07_ABEV  0.007752   0.007752         0.000000\n",
      "2021_06_07_ABNB -0.011676  -0.011676         0.191218\n",
      "2021_06_07_AZO  -0.001845  -0.001845         0.190217\n",
      "2021_06_07_BBY   0.009570   0.009570         0.017200\n",
      "2021_06_07_BKNG -0.007415  -0.007415         0.455900\n"
     ]
    }
   ],
   "source": [
    "sentiment_dataset = model.apply_sentiment_data(X.copy(), sentiment_data)\n",
    "sentiment_dataset.dropna(inplace=True)\n",
    "\n",
    "print(sentiment_dataset.head())"
   ],
   "metadata": {
    "collapsed": false,
    "ExecuteTime": {
     "start_time": "2023-06-21T16:53:09.244575Z",
     "end_time": "2023-06-21T16:53:09.670350Z"
    }
   }
  },
  {
   "cell_type": "code",
   "execution_count": null,
   "outputs": [],
   "source": [],
   "metadata": {
    "collapsed": false
   }
  }
 ],
 "metadata": {
  "kernelspec": {
   "display_name": "Python 3",
   "language": "python",
   "name": "python3"
  },
  "language_info": {
   "codemirror_mode": {
    "name": "ipython",
    "version": 2
   },
   "file_extension": ".py",
   "mimetype": "text/x-python",
   "name": "python",
   "nbconvert_exporter": "python",
   "pygments_lexer": "ipython2",
   "version": "2.7.6"
  }
 },
 "nbformat": 4,
 "nbformat_minor": 0
}
