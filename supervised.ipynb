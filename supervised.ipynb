{
 "cells": [
  {
   "cell_type": "code",
   "execution_count": 1,
   "metadata": {
    "collapsed": true,
    "ExecuteTime": {
     "start_time": "2023-06-22T18:32:22.737694Z",
     "end_time": "2023-06-22T18:32:29.458751Z"
    }
   },
   "outputs": [],
   "source": [
    "import pandas as pd\n",
    "\n",
    "from helpers import *\n",
    "from supervised_ensemble import EnsembleObjective, Model\n"
   ]
  },
  {
   "cell_type": "code",
   "execution_count": 2,
   "outputs": [],
   "source": [
    "model = Model()"
   ],
   "metadata": {
    "collapsed": false,
    "ExecuteTime": {
     "start_time": "2023-06-22T18:32:29.462744Z",
     "end_time": "2023-06-22T18:32:29.560740Z"
    }
   }
  },
  {
   "cell_type": "code",
   "execution_count": 3,
   "outputs": [
    {
     "name": "stdout",
     "output_type": "stream",
     "text": [
      "linear\n",
      "rf\n",
      "gb\n",
      "lgbm\n",
      "xgb\n"
     ]
    }
   ],
   "source": [
    "data = model.run_analysis()"
   ],
   "metadata": {
    "collapsed": false,
    "ExecuteTime": {
     "start_time": "2023-06-22T18:32:29.562708Z",
     "end_time": "2023-06-22T18:33:43.870834Z"
    }
   }
  },
  {
   "cell_type": "code",
   "execution_count": 4,
   "outputs": [
    {
     "name": "stdout",
     "output_type": "stream",
     "text": [
      "                Dataset   Model     Score\n",
      "0                 Dummy  linear  0.389982\n",
      "1                 Dummy      rf  0.389982\n",
      "2                 Dummy      gb  0.389982\n",
      "3                 Dummy    lgbm  0.389982\n",
      "4                 Dummy     xgb  0.389982\n",
      "5             Sentiment  linear  0.424188\n",
      "6             Sentiment      rf  0.442736\n",
      "7             Sentiment      gb  0.412979\n",
      "8             Sentiment    lgbm  0.423988\n",
      "9             Sentiment     xgb  0.442340\n",
      "10            Technical  linear  0.336968\n",
      "11            Technical      rf  0.355501\n",
      "12            Technical      gb  0.333499\n",
      "13            Technical    lgbm  0.335551\n",
      "14            Technical     xgb  0.335866\n",
      "15  Sentiment Technical  linear  0.323833\n",
      "16  Sentiment Technical      rf  0.348811\n",
      "17  Sentiment Technical      gb  0.349690\n",
      "18  Sentiment Technical    lgbm  0.339687\n",
      "19  Sentiment Technical     xgb  0.359166\n",
      "20             Baseline  linear  0.541339\n",
      "21             Baseline      rf  0.517421\n",
      "22             Baseline      gb  0.460418\n",
      "23             Baseline    lgbm  0.457153\n",
      "24             Baseline     xgb  0.456679\n",
      "25              Actuals  linear  0.000000\n",
      "26              Actuals      rf  0.000000\n",
      "27              Actuals      gb  0.000000\n",
      "28              Actuals    lgbm  0.000000\n",
      "29              Actuals     xgb  0.000000\n",
      "                Dataset   Model     Score\n",
      "0                 Dummy  linear  0.434260\n",
      "1                 Dummy      rf  0.434260\n",
      "2                 Dummy      gb  0.434260\n",
      "3                 Dummy    lgbm  0.434260\n",
      "4                 Dummy     xgb  0.434260\n",
      "5             Sentiment  linear  0.414350\n",
      "6             Sentiment      rf  0.463512\n",
      "7             Sentiment      gb  0.380012\n",
      "8             Sentiment    lgbm  0.397575\n",
      "9             Sentiment     xgb  0.427368\n",
      "10            Technical  linear  0.309776\n",
      "11            Technical      rf  0.328832\n",
      "12            Technical      gb  0.300121\n",
      "13            Technical    lgbm  0.309541\n",
      "14            Technical     xgb  0.309688\n",
      "15  Sentiment Technical  linear  0.305381\n",
      "16  Sentiment Technical      rf  0.332112\n",
      "17  Sentiment Technical      gb  0.461024\n",
      "18  Sentiment Technical    lgbm  0.323756\n",
      "19  Sentiment Technical     xgb  0.437937\n",
      "20             Baseline  linear  0.490081\n",
      "21             Baseline      rf  0.633522\n",
      "22             Baseline      gb  0.402999\n",
      "23             Baseline    lgbm  0.398725\n",
      "24             Baseline     xgb  0.398937\n",
      "25              Actuals  linear  0.000000\n",
      "26              Actuals      rf  0.000000\n",
      "27              Actuals      gb  0.000000\n",
      "28              Actuals    lgbm  0.000000\n",
      "29              Actuals     xgb  0.000000\n"
     ]
    }
   ],
   "source": [
    "plt_datasets = dict()\n",
    "for col in ['mae', 'mse']:\n",
    "    dataset = pd.DataFrame(data[col]).stack().reset_index()\n",
    "    dataset.columns = ['Dataset', 'Model', 'Score']\n",
    "    print(dataset)\n",
    "    plt_datasets[col] = dataset"
   ],
   "metadata": {
    "collapsed": false,
    "ExecuteTime": {
     "start_time": "2023-06-22T18:33:43.871863Z",
     "end_time": "2023-06-22T18:33:43.884885Z"
    }
   }
  },
  {
   "cell_type": "code",
   "execution_count": 6,
   "outputs": [
    {
     "data": {
      "text/html": "\n<div id=\"altair-viz-82b742da24af4c6a8b684e07e2731e6f\"></div>\n<script type=\"text/javascript\">\n  var VEGA_DEBUG = (typeof VEGA_DEBUG == \"undefined\") ? {} : VEGA_DEBUG;\n  (function(spec, embedOpt){\n    let outputDiv = document.currentScript.previousElementSibling;\n    if (outputDiv.id !== \"altair-viz-82b742da24af4c6a8b684e07e2731e6f\") {\n      outputDiv = document.getElementById(\"altair-viz-82b742da24af4c6a8b684e07e2731e6f\");\n    }\n    const paths = {\n      \"vega\": \"https://cdn.jsdelivr.net/npm//vega@5?noext\",\n      \"vega-lib\": \"https://cdn.jsdelivr.net/npm//vega-lib?noext\",\n      \"vega-lite\": \"https://cdn.jsdelivr.net/npm//vega-lite@4.17.0?noext\",\n      \"vega-embed\": \"https://cdn.jsdelivr.net/npm//vega-embed@6?noext\",\n    };\n\n    function maybeLoadScript(lib, version) {\n      var key = `${lib.replace(\"-\", \"\")}_version`;\n      return (VEGA_DEBUG[key] == version) ?\n        Promise.resolve(paths[lib]) :\n        new Promise(function(resolve, reject) {\n          var s = document.createElement('script');\n          document.getElementsByTagName(\"head\")[0].appendChild(s);\n          s.async = true;\n          s.onload = () => {\n            VEGA_DEBUG[key] = version;\n            return resolve(paths[lib]);\n          };\n          s.onerror = () => reject(`Error loading script: ${paths[lib]}`);\n          s.src = paths[lib];\n        });\n    }\n\n    function showError(err) {\n      outputDiv.innerHTML = `<div class=\"error\" style=\"color:red;\">${err}</div>`;\n      throw err;\n    }\n\n    function displayChart(vegaEmbed) {\n      vegaEmbed(outputDiv, spec, embedOpt)\n        .catch(err => showError(`Javascript Error: ${err.message}<br>This usually means there's a typo in your chart specification. See the javascript console for the full traceback.`));\n    }\n\n    if(typeof define === \"function\" && define.amd) {\n      requirejs.config({paths});\n      require([\"vega-embed\"], displayChart, err => showError(`Error loading script: ${err.message}`));\n    } else {\n      maybeLoadScript(\"vega\", \"5\")\n        .then(() => maybeLoadScript(\"vega-lite\", \"4.17.0\"))\n        .then(() => maybeLoadScript(\"vega-embed\", \"6\"))\n        .catch(showError)\n        .then(() => displayChart(vegaEmbed));\n    }\n  })({\"config\": {\"view\": {\"continuousWidth\": 400, \"continuousHeight\": 300}}, \"data\": {\"name\": \"data-d5fde6229e0db51daa0adfb3b5fae966\"}, \"mark\": \"bar\", \"encoding\": {\"column\": {\"field\": \"Dataset\", \"type\": \"ordinal\"}, \"x\": {\"field\": \"Model\", \"type\": \"ordinal\"}, \"y\": {\"aggregate\": \"sum\", \"field\": \"Score\", \"title\": \"MAE\", \"type\": \"quantitative\"}}, \"$schema\": \"https://vega.github.io/schema/vega-lite/v4.17.0.json\", \"datasets\": {\"data-d5fde6229e0db51daa0adfb3b5fae966\": [{\"Dataset\": \"Dummy\", \"Model\": \"linear\", \"Score\": 0.3899820737337287}, {\"Dataset\": \"Dummy\", \"Model\": \"rf\", \"Score\": 0.3899820737337287}, {\"Dataset\": \"Dummy\", \"Model\": \"gb\", \"Score\": 0.3899820737337287}, {\"Dataset\": \"Dummy\", \"Model\": \"lgbm\", \"Score\": 0.3899820737337287}, {\"Dataset\": \"Dummy\", \"Model\": \"xgb\", \"Score\": 0.3899820737337287}, {\"Dataset\": \"Sentiment\", \"Model\": \"linear\", \"Score\": 0.4241875699916789}, {\"Dataset\": \"Sentiment\", \"Model\": \"rf\", \"Score\": 0.44273592787953503}, {\"Dataset\": \"Sentiment\", \"Model\": \"gb\", \"Score\": 0.41297875145800617}, {\"Dataset\": \"Sentiment\", \"Model\": \"lgbm\", \"Score\": 0.42398829168108804}, {\"Dataset\": \"Sentiment\", \"Model\": \"xgb\", \"Score\": 0.4423398571922403}, {\"Dataset\": \"Technical\", \"Model\": \"linear\", \"Score\": 0.33696823831335887}, {\"Dataset\": \"Technical\", \"Model\": \"rf\", \"Score\": 0.35550083963180207}, {\"Dataset\": \"Technical\", \"Model\": \"gb\", \"Score\": 0.33349852299093197}, {\"Dataset\": \"Technical\", \"Model\": \"lgbm\", \"Score\": 0.33555050695634203}, {\"Dataset\": \"Technical\", \"Model\": \"xgb\", \"Score\": 0.3358658127246479}, {\"Dataset\": \"Sentiment Technical\", \"Model\": \"linear\", \"Score\": 0.32383340724407583}, {\"Dataset\": \"Sentiment Technical\", \"Model\": \"rf\", \"Score\": 0.3488113121743785}, {\"Dataset\": \"Sentiment Technical\", \"Model\": \"gb\", \"Score\": 0.3496902653378889}, {\"Dataset\": \"Sentiment Technical\", \"Model\": \"lgbm\", \"Score\": 0.33968705586302256}, {\"Dataset\": \"Sentiment Technical\", \"Model\": \"xgb\", \"Score\": 0.35916592632959266}, {\"Dataset\": \"Baseline\", \"Model\": \"linear\", \"Score\": 0.5413386898182442}, {\"Dataset\": \"Baseline\", \"Model\": \"rf\", \"Score\": 0.5174211985282141}, {\"Dataset\": \"Baseline\", \"Model\": \"gb\", \"Score\": 0.4604181249096229}, {\"Dataset\": \"Baseline\", \"Model\": \"lgbm\", \"Score\": 0.4571534661261149}, {\"Dataset\": \"Baseline\", \"Model\": \"xgb\", \"Score\": 0.4566792360377252}, {\"Dataset\": \"Actuals\", \"Model\": \"linear\", \"Score\": 0.0}, {\"Dataset\": \"Actuals\", \"Model\": \"rf\", \"Score\": 0.0}, {\"Dataset\": \"Actuals\", \"Model\": \"gb\", \"Score\": 0.0}, {\"Dataset\": \"Actuals\", \"Model\": \"lgbm\", \"Score\": 0.0}, {\"Dataset\": \"Actuals\", \"Model\": \"xgb\", \"Score\": 0.0}]}}, {\"mode\": \"vega-lite\"});\n</script>",
      "text/plain": "alt.Chart(...)"
     },
     "execution_count": 6,
     "metadata": {},
     "output_type": "execute_result"
    }
   ],
   "source": [
    "import altair as alt\n",
    "\n",
    "col = 'mae'\n",
    "cht = alt.Chart(plt_datasets[col]).mark_bar().encode(\n",
    "    x='Model:O',\n",
    "    y=alt.Y('sum(Score):Q', title=col.upper()),\n",
    "    column='Dataset:O'\n",
    ")\n",
    "\n",
    "cht"
   ],
   "metadata": {
    "collapsed": false,
    "ExecuteTime": {
     "start_time": "2023-06-22T19:00:59.667267Z",
     "end_time": "2023-06-22T19:00:59.700260Z"
    }
   }
  },
  {
   "cell_type": "code",
   "execution_count": 11,
   "outputs": [],
   "source": [
    "baseline_prediction = baseline['pred']\n",
    "baseline_prediction = remove_duplicate_index(baseline_prediction)\n",
    "\n",
    "bollinger_X = model.create_objective(X.copy(), 'bollinger')\n",
    "bollinger_prediction = model.simple_model(bollinger_X, Y.copy())['pred']\n",
    "\n"
   ],
   "metadata": {
    "collapsed": false,
    "ExecuteTime": {
     "start_time": "2023-06-21T16:51:39.900818Z",
     "end_time": "2023-06-21T16:51:40.042795Z"
    }
   }
  },
  {
   "cell_type": "code",
   "execution_count": 12,
   "outputs": [],
   "source": [
    "sentiment_data = model.create_twitter_datasets()"
   ],
   "metadata": {
    "collapsed": false,
    "ExecuteTime": {
     "start_time": "2023-06-21T16:52:31.331551Z",
     "end_time": "2023-06-21T16:52:35.450428Z"
    }
   }
  },
  {
   "cell_type": "code",
   "execution_count": 13,
   "outputs": [
    {
     "name": "stdout",
     "output_type": "stream",
     "text": [
      "                    Close  Adj Close  sentiment_score\n",
      "2021_06_07_ABEV  0.007752   0.007752         0.000000\n",
      "2021_06_07_ABNB -0.011676  -0.011676         0.191218\n",
      "2021_06_07_AZO  -0.001845  -0.001845         0.190217\n",
      "2021_06_07_BBY   0.009570   0.009570         0.017200\n",
      "2021_06_07_BKNG -0.007415  -0.007415         0.455900\n"
     ]
    }
   ],
   "source": [
    "sentiment_dataset = model.apply_sentiment_data(X.copy(), sentiment_data)\n",
    "sentiment_dataset.dropna(inplace=True)\n",
    "\n",
    "print(sentiment_dataset.head())"
   ],
   "metadata": {
    "collapsed": false,
    "ExecuteTime": {
     "start_time": "2023-06-21T16:53:09.244575Z",
     "end_time": "2023-06-21T16:53:09.670350Z"
    }
   }
  },
  {
   "cell_type": "code",
   "execution_count": null,
   "outputs": [],
   "source": [],
   "metadata": {
    "collapsed": false
   }
  }
 ],
 "metadata": {
  "kernelspec": {
   "display_name": "Python 3",
   "language": "python",
   "name": "python3"
  },
  "language_info": {
   "codemirror_mode": {
    "name": "ipython",
    "version": 2
   },
   "file_extension": ".py",
   "mimetype": "text/x-python",
   "name": "python",
   "nbconvert_exporter": "python",
   "pygments_lexer": "ipython2",
   "version": "2.7.6"
  }
 },
 "nbformat": 4,
 "nbformat_minor": 0
}
