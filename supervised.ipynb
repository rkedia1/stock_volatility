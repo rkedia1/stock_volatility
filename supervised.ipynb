{
 "cells": [
  {
   "cell_type": "code",
   "execution_count": 4,
   "metadata": {
    "collapsed": true,
    "ExecuteTime": {
     "start_time": "2023-06-21T16:50:02.867022Z",
     "end_time": "2023-06-21T16:50:02.889840Z"
    }
   },
   "outputs": [],
   "source": [
    "import pandas as pd\n",
    "\n",
    "from helpers import *\n",
    "from supervised_ensemble import EnsembleObjective, Model\n"
   ]
  },
  {
   "cell_type": "code",
   "execution_count": 5,
   "outputs": [
    {
     "name": "stderr",
     "output_type": "stream",
     "text": [
      "Building Datasets: 100%|██████████| 100/100 [00:00<00:00, 242.91it/s]\n"
     ]
    }
   ],
   "source": [
    "model = Model()"
   ],
   "metadata": {
    "collapsed": false,
    "ExecuteTime": {
     "start_time": "2023-06-21T16:50:03.329385Z",
     "end_time": "2023-06-21T16:50:03.760392Z"
    }
   }
  },
  {
   "cell_type": "code",
   "execution_count": 6,
   "outputs": [],
   "source": [
    "datasets = model.create_model_datasets()\n",
    "X, Y = model.create_X_Y(datasets)\n",
    "baseline = model.simple_model(X.copy(), Y.copy())"
   ],
   "metadata": {
    "collapsed": false,
    "ExecuteTime": {
     "start_time": "2023-06-21T16:50:04.562864Z",
     "end_time": "2023-06-21T16:50:05.389187Z"
    }
   }
  },
  {
   "cell_type": "code",
   "execution_count": 9,
   "outputs": [
    {
     "name": "stdout",
     "output_type": "stream",
     "text": [
      "2021_06_04_TSLA    0.492931\n",
      "2021_06_07_TSLA    0.627535\n",
      "2021_06_08_TSLA    0.654431\n",
      "2021_06_09_TSLA    1.705046\n",
      "2021_06_10_TSLA    0.897531\n",
      "Name: Deviation, dtype: float64\n"
     ]
    }
   ],
   "source": [
    "dummy_datasets = model.create_model_datasets(y_shift=3)\n",
    "_, dummy_prediction = model.create_X_Y(dummy_datasets)\n",
    "\n",
    "print(dummy_prediction.head())"
   ],
   "metadata": {
    "collapsed": false,
    "ExecuteTime": {
     "start_time": "2023-06-21T16:50:55.361748Z",
     "end_time": "2023-06-21T16:50:56.107136Z"
    }
   }
  },
  {
   "cell_type": "code",
   "execution_count": 10,
   "outputs": [],
   "source": [
    "actuals = baseline['ytest'].sort_index()\n",
    "actuals = remove_duplicate_index(actuals)\n",
    "\n"
   ],
   "metadata": {
    "collapsed": false,
    "ExecuteTime": {
     "start_time": "2023-06-21T16:51:14.993056Z",
     "end_time": "2023-06-21T16:51:15.015570Z"
    }
   }
  },
  {
   "cell_type": "code",
   "execution_count": 11,
   "outputs": [],
   "source": [
    "baseline_prediction = baseline['pred']\n",
    "baseline_prediction = remove_duplicate_index(baseline_prediction)\n",
    "\n",
    "bollinger_X = model.create_objective(X.copy(), 'bollinger')\n",
    "bollinger_prediction = model.simple_model(bollinger_X, Y.copy())['pred']\n",
    "\n"
   ],
   "metadata": {
    "collapsed": false,
    "ExecuteTime": {
     "start_time": "2023-06-21T16:51:39.900818Z",
     "end_time": "2023-06-21T16:51:40.042795Z"
    }
   }
  },
  {
   "cell_type": "code",
   "execution_count": 12,
   "outputs": [],
   "source": [
    "sentiment_data = model.create_twitter_datasets()"
   ],
   "metadata": {
    "collapsed": false,
    "ExecuteTime": {
     "start_time": "2023-06-21T16:52:31.331551Z",
     "end_time": "2023-06-21T16:52:35.450428Z"
    }
   }
  },
  {
   "cell_type": "code",
   "execution_count": 13,
   "outputs": [
    {
     "name": "stdout",
     "output_type": "stream",
     "text": [
      "                    Close  Adj Close  sentiment_score\n",
      "2021_06_07_ABEV  0.007752   0.007752         0.000000\n",
      "2021_06_07_ABNB -0.011676  -0.011676         0.191218\n",
      "2021_06_07_AZO  -0.001845  -0.001845         0.190217\n",
      "2021_06_07_BBY   0.009570   0.009570         0.017200\n",
      "2021_06_07_BKNG -0.007415  -0.007415         0.455900\n"
     ]
    }
   ],
   "source": [
    "sentiment_dataset = model.apply_sentiment_data(X.copy(), sentiment_data)\n",
    "sentiment_dataset.dropna(inplace=True)\n",
    "\n",
    "print(sentiment_dataset.head())"
   ],
   "metadata": {
    "collapsed": false,
    "ExecuteTime": {
     "start_time": "2023-06-21T16:53:09.244575Z",
     "end_time": "2023-06-21T16:53:09.670350Z"
    }
   }
  },
  {
   "cell_type": "code",
   "execution_count": null,
   "outputs": [],
   "source": [],
   "metadata": {
    "collapsed": false
   }
  }
 ],
 "metadata": {
  "kernelspec": {
   "display_name": "Python 3",
   "language": "python",
   "name": "python3"
  },
  "language_info": {
   "codemirror_mode": {
    "name": "ipython",
    "version": 2
   },
   "file_extension": ".py",
   "mimetype": "text/x-python",
   "name": "python",
   "nbconvert_exporter": "python",
   "pygments_lexer": "ipython2",
   "version": "2.7.6"
  }
 },
 "nbformat": 4,
 "nbformat_minor": 0
}
