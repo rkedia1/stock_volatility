{
 "cells": [
  {
   "cell_type": "code",
   "execution_count": 1,
   "metadata": {
    "collapsed": true,
    "ExecuteTime": {
     "start_time": "2023-06-22T08:15:05.128873Z",
     "end_time": "2023-06-22T08:15:06.313075Z"
    }
   },
   "outputs": [],
   "source": [
    "import pandas as pd\n",
    "\n",
    "from helpers import *\n",
    "from supervised_ensemble import EnsembleObjective, Model\n"
   ]
  },
  {
   "cell_type": "code",
   "execution_count": 2,
   "outputs": [],
   "source": [
    "model = Model()"
   ],
   "metadata": {
    "collapsed": false,
    "ExecuteTime": {
     "start_time": "2023-06-22T08:15:06.314076Z",
     "end_time": "2023-06-22T08:15:06.372153Z"
    }
   }
  },
  {
   "cell_type": "code",
   "execution_count": 3,
   "outputs": [
    {
     "name": "stdout",
     "output_type": "stream",
     "text": [
      "linear\n",
      "Dummy\n",
      "Sentiment\n",
      "Technical\n",
      "Sentiment Technical\n",
      "Baseline\n",
      "Actuals\n",
      "rf\n",
      "Dummy\n",
      "Sentiment\n",
      "Technical\n",
      "Sentiment Technical\n",
      "Baseline\n",
      "Actuals\n",
      "gb\n",
      "Dummy\n",
      "Sentiment\n",
      "Technical\n",
      "Sentiment Technical\n",
      "Baseline\n",
      "Actuals\n",
      "lgbm\n",
      "Dummy\n",
      "Sentiment\n",
      "Technical\n",
      "Sentiment Technical\n",
      "Baseline\n",
      "Actuals\n",
      "xgb\n",
      "Dummy\n",
      "Sentiment\n",
      "Technical\n",
      "Sentiment Technical\n",
      "Baseline\n",
      "Actuals\n"
     ]
    }
   ],
   "source": [
    "data = model.run_analysis()"
   ],
   "metadata": {
    "collapsed": false,
    "ExecuteTime": {
     "start_time": "2023-06-22T08:15:07.357253Z",
     "end_time": "2023-06-22T08:16:51.922301Z"
    }
   }
  },
  {
   "cell_type": "code",
   "execution_count": 4,
   "outputs": [
    {
     "data": {
      "text/plain": "{'mae': {'linear': {'Dummy': 0.44291602524969403,\n   'Sentiment': 0.49481841955307676,\n   'Technical': 0.35894328161183586,\n   'Sentiment Technical': 0.3603679782303186,\n   'Baseline': 0.5080860860981853,\n   'Actuals': 0.0},\n  'rf': {'Dummy': 0.44291602524969403,\n   'Sentiment': 0.48984044551513994,\n   'Technical': 0.3802369603532265,\n   'Sentiment Technical': 0.3828334342888682,\n   'Baseline': 0.5239068225152201,\n   'Actuals': 0.0},\n  'gb': {'Dummy': 0.44291602524969403,\n   'Sentiment': 0.4449676380347061,\n   'Technical': 0.3544721416726292,\n   'Sentiment Technical': 0.35926796127532123,\n   'Baseline': 0.4459830393019116,\n   'Actuals': 0.0},\n  'lgbm': {'Dummy': 0.44291602524969403,\n   'Sentiment': 0.4457488508909672,\n   'Technical': 0.3556090317973267,\n   'Sentiment Technical': 0.358067259232984,\n   'Baseline': 0.44363764596698035,\n   'Actuals': 0.0},\n  'xgb': {'Dummy': 0.44291602524969403,\n   'Sentiment': 0.44942572599873887,\n   'Technical': 0.3596734971290191,\n   'Sentiment Technical': 0.3626843182083231,\n   'Baseline': 0.44824986303210973,\n   'Actuals': 0.0}},\n 'mse': {'linear': {'Dummy': 0.626867809892424,\n   'Sentiment': 0.47720425677773376,\n   'Technical': 0.35996821412262103,\n   'Sentiment Technical': 0.36103786561723433,\n   'Baseline': 0.49113743894754835,\n   'Actuals': 0.0},\n  'rf': {'Dummy': 0.626867809892424,\n   'Sentiment': 0.5240362837851583,\n   'Technical': 0.38690504898112504,\n   'Sentiment Technical': 0.38961336555010573,\n   'Baseline': 0.6586831786073191,\n   'Actuals': 0.0},\n  'gb': {'Dummy': 0.626867809892424,\n   'Sentiment': 0.4309608938418197,\n   'Technical': 0.3541917765987006,\n   'Sentiment Technical': 0.3604781307743374,\n   'Baseline': 0.4370573530837583,\n   'Actuals': 0.0},\n  'lgbm': {'Dummy': 0.626867809892424,\n   'Sentiment': 0.42963823132110807,\n   'Technical': 0.35735581622130486,\n   'Sentiment Technical': 0.35865329714437516,\n   'Baseline': 0.4213387713320732,\n   'Actuals': 0.0},\n  'xgb': {'Dummy': 0.626867809892424,\n   'Sentiment': 0.4430042479841484,\n   'Technical': 0.3715711228291572,\n   'Sentiment Technical': 0.37224510186554105,\n   'Baseline': 0.4522790920650141,\n   'Actuals': 0.0}}}"
     },
     "execution_count": 4,
     "metadata": {},
     "output_type": "execute_result"
    }
   ],
   "source": [
    "data['']"
   ],
   "metadata": {
    "collapsed": false,
    "ExecuteTime": {
     "start_time": "2023-06-22T08:36:34.455473Z",
     "end_time": "2023-06-22T08:36:34.483036Z"
    }
   }
  },
  {
   "cell_type": "code",
   "execution_count": 10,
   "outputs": [],
   "source": [
    "actuals = baseline['ytest'].sort_index()\n",
    "actuals = remove_duplicate_index(actuals)\n",
    "\n"
   ],
   "metadata": {
    "collapsed": false,
    "ExecuteTime": {
     "start_time": "2023-06-21T16:51:14.993056Z",
     "end_time": "2023-06-21T16:51:15.015570Z"
    }
   }
  },
  {
   "cell_type": "code",
   "execution_count": 11,
   "outputs": [],
   "source": [
    "baseline_prediction = baseline['pred']\n",
    "baseline_prediction = remove_duplicate_index(baseline_prediction)\n",
    "\n",
    "bollinger_X = model.create_objective(X.copy(), 'bollinger')\n",
    "bollinger_prediction = model.simple_model(bollinger_X, Y.copy())['pred']\n",
    "\n"
   ],
   "metadata": {
    "collapsed": false,
    "ExecuteTime": {
     "start_time": "2023-06-21T16:51:39.900818Z",
     "end_time": "2023-06-21T16:51:40.042795Z"
    }
   }
  },
  {
   "cell_type": "code",
   "execution_count": 12,
   "outputs": [],
   "source": [
    "sentiment_data = model.create_twitter_datasets()"
   ],
   "metadata": {
    "collapsed": false,
    "ExecuteTime": {
     "start_time": "2023-06-21T16:52:31.331551Z",
     "end_time": "2023-06-21T16:52:35.450428Z"
    }
   }
  },
  {
   "cell_type": "code",
   "execution_count": 13,
   "outputs": [
    {
     "name": "stdout",
     "output_type": "stream",
     "text": [
      "                    Close  Adj Close  sentiment_score\n",
      "2021_06_07_ABEV  0.007752   0.007752         0.000000\n",
      "2021_06_07_ABNB -0.011676  -0.011676         0.191218\n",
      "2021_06_07_AZO  -0.001845  -0.001845         0.190217\n",
      "2021_06_07_BBY   0.009570   0.009570         0.017200\n",
      "2021_06_07_BKNG -0.007415  -0.007415         0.455900\n"
     ]
    }
   ],
   "source": [
    "sentiment_dataset = model.apply_sentiment_data(X.copy(), sentiment_data)\n",
    "sentiment_dataset.dropna(inplace=True)\n",
    "\n",
    "print(sentiment_dataset.head())"
   ],
   "metadata": {
    "collapsed": false,
    "ExecuteTime": {
     "start_time": "2023-06-21T16:53:09.244575Z",
     "end_time": "2023-06-21T16:53:09.670350Z"
    }
   }
  },
  {
   "cell_type": "code",
   "execution_count": null,
   "outputs": [],
   "source": [],
   "metadata": {
    "collapsed": false
   }
  }
 ],
 "metadata": {
  "kernelspec": {
   "display_name": "Python 3",
   "language": "python",
   "name": "python3"
  },
  "language_info": {
   "codemirror_mode": {
    "name": "ipython",
    "version": 2
   },
   "file_extension": ".py",
   "mimetype": "text/x-python",
   "name": "python",
   "nbconvert_exporter": "python",
   "pygments_lexer": "ipython2",
   "version": "2.7.6"
  }
 },
 "nbformat": 4,
 "nbformat_minor": 0
}
