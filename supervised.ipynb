{
 "cells": [
  {
   "cell_type": "code",
   "execution_count": 1,
   "metadata": {
    "collapsed": true,
    "ExecuteTime": {
     "end_time": "2023-06-25T03:50:35.203454500Z",
     "start_time": "2023-06-25T03:50:24.547765Z"
    }
   },
   "outputs": [],
   "source": [
    "import pandas as pd\n",
    "import pickle\n",
    "import altair as alt\n",
    "\n",
    "from helpers import *\n",
    "from supervised_ensemble import EnsembleObjective, Model\n",
    "\n",
    "\n",
    "def create_table(data, typ: str = 'mae'):\n",
    "    datasets = list()\n",
    "    for model in data:\n",
    "        df = pd.DataFrame(pd.DataFrame(data[model]).T[typ])\n",
    "        df.columns = [model]\n",
    "\n",
    "        datasets.append(df)\n",
    "\n",
    "    dataset = merge_dataframes(datasets).T\n",
    "    dataset['Technical Improvement'] = dataset['baseline'] - dataset['technical']\n",
    "    dataset['Sentiment Improvement'] = dataset['baseline'] - dataset['sentiment']\n",
    "    dataset['Combined Improvement'] = dataset['baseline'] - dataset['combined']\n",
    "\n",
    "    return dataset\n"
   ]
  },
  {
   "cell_type": "code",
   "execution_count": 2,
   "outputs": [],
   "source": [
    "datasets = dict()\n",
    "for window in range(2, 7):\n",
    "    filename = f'pickles/results_{window}.pkl'\n",
    "    with open(filename, 'rb') as handle:\n",
    "        data = pickle.load(handle)\n",
    "        datasets[window] = dict()\n",
    "        for typ in ['mae', 'mse']:\n",
    "            datasets[window][typ] = create_table(data, typ)"
   ],
   "metadata": {
    "collapsed": false,
    "ExecuteTime": {
     "end_time": "2023-06-25T03:50:35.326624900Z",
     "start_time": "2023-06-25T03:50:35.204741900Z"
    }
   }
  },
  {
   "cell_type": "code",
   "execution_count": 3,
   "outputs": [
    {
     "name": "stdout",
     "output_type": "stream",
     "text": [
      "     Model                Dataset     Score\n",
      "0   linear                  dummy  0.681300\n",
      "1   linear               baseline  0.536120\n",
      "2   linear              technical  0.433067\n",
      "3   linear              sentiment  0.519447\n",
      "4   linear               combined  0.430990\n",
      "5   linear  Technical Improvement  0.103054\n",
      "6   linear  Sentiment Improvement  0.016673\n",
      "7   linear   Combined Improvement  0.105130\n",
      "8       rf                  dummy  0.681300\n",
      "9       rf               baseline  0.594096\n",
      "10      rf              technical  0.466245\n",
      "11      rf              sentiment  0.514815\n",
      "12      rf               combined  0.460031\n",
      "13      rf  Technical Improvement  0.127851\n",
      "14      rf  Sentiment Improvement  0.079281\n",
      "15      rf   Combined Improvement  0.134065\n",
      "16      gb                  dummy  0.681300\n",
      "17      gb               baseline  0.495833\n",
      "18      gb              technical  0.434598\n",
      "19      gb              sentiment  0.489806\n",
      "20      gb               combined  0.433411\n",
      "21      gb  Technical Improvement  0.061235\n",
      "22      gb  Sentiment Improvement  0.006027\n",
      "23      gb   Combined Improvement  0.062422\n",
      "24    lgbm                  dummy  0.681300\n",
      "25    lgbm               baseline  0.496042\n",
      "26    lgbm              technical  0.443633\n",
      "27    lgbm              sentiment  0.492185\n",
      "28    lgbm               combined  0.439983\n",
      "29    lgbm  Technical Improvement  0.052410\n",
      "30    lgbm  Sentiment Improvement  0.003858\n",
      "31    lgbm   Combined Improvement  0.056059\n",
      "32     xgb                  dummy  0.681300\n",
      "33     xgb               baseline  0.507314\n",
      "34     xgb              technical  0.455610\n",
      "35     xgb              sentiment  0.507558\n",
      "36     xgb               combined  0.458049\n",
      "37     xgb  Technical Improvement  0.051703\n",
      "38     xgb  Sentiment Improvement  0.000000\n",
      "39     xgb   Combined Improvement  0.049264\n",
      "40     mlp                  dummy  0.681300\n",
      "41     mlp               baseline  0.494190\n",
      "42     mlp              technical  1.000000\n",
      "43     mlp              sentiment  0.486953\n",
      "44     mlp               combined  1.000000\n",
      "45     mlp  Technical Improvement  0.000000\n",
      "46     mlp  Sentiment Improvement  0.007237\n",
      "47     mlp   Combined Improvement  0.000000\n"
     ]
    }
   ],
   "source": [
    "def convert_altair(dataset: pd.DataFrame):\n",
    "    df = dataset.copy().stack().reset_index()\n",
    "    df.columns = ['Model', 'Dataset', 'Score']\n",
    "    df['Score'] = df['Score'].clip(0, 1)\n",
    "    return df\n",
    "\n",
    "\n",
    "df = convert_altair(datasets[2]['mae'])\n",
    "print(df)"
   ],
   "metadata": {
    "collapsed": false,
    "ExecuteTime": {
     "end_time": "2023-06-25T03:50:35.386183200Z",
     "start_time": "2023-06-25T03:50:35.327625300Z"
    }
   }
  },
  {
   "cell_type": "code",
   "execution_count": 23,
   "outputs": [
    {
     "name": "stdout",
     "output_type": "stream",
     "text": [
      "     Model    Dataset Measure     Score\n",
      "0   linear   baseline     MAE  0.536120\n",
      "1   linear   combined     MAE  0.430990\n",
      "2   linear  sentiment     MAE  0.519447\n",
      "3       rf   baseline     MAE  0.594096\n",
      "4       rf   combined     MAE  0.460031\n",
      "5       rf  sentiment     MAE  0.514815\n",
      "6       gb   baseline     MAE  0.495833\n",
      "7       gb   combined     MAE  0.433411\n",
      "8       gb  sentiment     MAE  0.489806\n",
      "9     lgbm   baseline     MAE  0.496042\n",
      "10    lgbm   combined     MAE  0.439983\n",
      "11    lgbm  sentiment     MAE  0.492185\n",
      "12     xgb   baseline     MAE  0.507314\n",
      "13     xgb   combined     MAE  0.458049\n",
      "14     xgb  sentiment     MAE  0.507558\n",
      "15     mlp   baseline     MAE  0.494190\n",
      "16     mlp   combined     MAE  1.000000\n",
      "17     mlp  sentiment     MAE  0.486953\n",
      "18  linear   baseline     MSE  0.766039\n",
      "19  linear   combined     MSE  0.547841\n",
      "20  linear  sentiment     MSE  0.729535\n",
      "21      rf   baseline     MSE  0.907664\n",
      "22      rf   combined     MSE  0.576359\n",
      "23      rf  sentiment     MSE  0.696784\n",
      "24      gb   baseline     MSE  0.681968\n",
      "25      gb   combined     MSE  0.552852\n",
      "26      gb  sentiment     MSE  0.668852\n",
      "27    lgbm   baseline     MSE  0.675175\n",
      "28    lgbm   combined     MSE  0.561604\n",
      "29    lgbm  sentiment     MSE  0.669901\n",
      "30     xgb   baseline     MSE  0.717303\n",
      "31     xgb   combined     MSE  0.595263\n",
      "32     xgb  sentiment     MSE  0.696853\n",
      "33     mlp   baseline     MSE  0.671590\n",
      "34     mlp   combined     MSE  1.000000\n",
      "35     mlp  sentiment     MSE  0.672095\n"
     ]
    },
    {
     "data": {
      "text/html": "\n<style>\n  #altair-viz-c36d537cdb3d43aca7b14596d116ae23.vega-embed {\n    width: 100%;\n    display: flex;\n  }\n\n  #altair-viz-c36d537cdb3d43aca7b14596d116ae23.vega-embed details,\n  #altair-viz-c36d537cdb3d43aca7b14596d116ae23.vega-embed details summary {\n    position: relative;\n  }\n</style>\n<div id=\"altair-viz-c36d537cdb3d43aca7b14596d116ae23\"></div>\n<script type=\"text/javascript\">\n  var VEGA_DEBUG = (typeof VEGA_DEBUG == \"undefined\") ? {} : VEGA_DEBUG;\n  (function(spec, embedOpt){\n    let outputDiv = document.currentScript.previousElementSibling;\n    if (outputDiv.id !== \"altair-viz-c36d537cdb3d43aca7b14596d116ae23\") {\n      outputDiv = document.getElementById(\"altair-viz-c36d537cdb3d43aca7b14596d116ae23\");\n    }\n    const paths = {\n      \"vega\": \"https://cdn.jsdelivr.net/npm/vega@5?noext\",\n      \"vega-lib\": \"https://cdn.jsdelivr.net/npm/vega-lib?noext\",\n      \"vega-lite\": \"https://cdn.jsdelivr.net/npm/vega-lite@5.8.0?noext\",\n      \"vega-embed\": \"https://cdn.jsdelivr.net/npm/vega-embed@6?noext\",\n    };\n\n    function maybeLoadScript(lib, version) {\n      var key = `${lib.replace(\"-\", \"\")}_version`;\n      return (VEGA_DEBUG[key] == version) ?\n        Promise.resolve(paths[lib]) :\n        new Promise(function(resolve, reject) {\n          var s = document.createElement('script');\n          document.getElementsByTagName(\"head\")[0].appendChild(s);\n          s.async = true;\n          s.onload = () => {\n            VEGA_DEBUG[key] = version;\n            return resolve(paths[lib]);\n          };\n          s.onerror = () => reject(`Error loading script: ${paths[lib]}`);\n          s.src = paths[lib];\n        });\n    }\n\n    function showError(err) {\n      outputDiv.innerHTML = `<div class=\"error\" style=\"color:red;\">${err}</div>`;\n      throw err;\n    }\n\n    function displayChart(vegaEmbed) {\n      vegaEmbed(outputDiv, spec, embedOpt)\n        .catch(err => showError(`Javascript Error: ${err.message}<br>This usually means there's a typo in your chart specification. See the javascript console for the full traceback.`));\n    }\n\n    if(typeof define === \"function\" && define.amd) {\n      requirejs.config({paths});\n      require([\"vega-embed\"], displayChart, err => showError(`Error loading script: ${err.message}`));\n    } else {\n      maybeLoadScript(\"vega\", \"5\")\n        .then(() => maybeLoadScript(\"vega-lite\", \"5.8.0\"))\n        .then(() => maybeLoadScript(\"vega-embed\", \"6\"))\n        .catch(showError)\n        .then(() => displayChart(vegaEmbed));\n    }\n  })({\"config\": {\"view\": {\"continuousWidth\": 300, \"continuousHeight\": 300}}, \"data\": {\"name\": \"data-33e729c8b038e2c2b416d4603f9b79dc\"}, \"mark\": {\"type\": \"bar\"}, \"encoding\": {\"color\": {\"field\": \"Measure\", \"type\": \"nominal\"}, \"column\": {\"field\": \"Dataset\", \"title\": \"\", \"type\": \"ordinal\"}, \"x\": {\"axis\": {\"labelAngle\": 0}, \"field\": \"Model\", \"title\": \"\", \"type\": \"ordinal\"}, \"xOffset\": {\"field\": \"Measure\", \"type\": \"nominal\"}, \"y\": {\"aggregate\": \"sum\", \"field\": \"Score\", \"scale\": {\"clamp\": true, \"domain\": [0, 1]}, \"title\": \"Error\", \"type\": \"quantitative\"}}, \"title\": \"14 Hour Ahead Volatility Accuracy\", \"$schema\": \"https://vega.github.io/schema/vega-lite/v5.8.0.json\", \"datasets\": {\"data-33e729c8b038e2c2b416d4603f9b79dc\": [{\"Model\": \"linear\", \"Dataset\": \"baseline\", \"Measure\": \"MAE\", \"Score\": 0.5361201616929195}, {\"Model\": \"linear\", \"Dataset\": \"combined\", \"Measure\": \"MAE\", \"Score\": 0.430990178769599}, {\"Model\": \"linear\", \"Dataset\": \"sentiment\", \"Measure\": \"MAE\", \"Score\": 0.5194468112423267}, {\"Model\": \"rf\", \"Dataset\": \"baseline\", \"Measure\": \"MAE\", \"Score\": 0.594096149029449}, {\"Model\": \"rf\", \"Dataset\": \"combined\", \"Measure\": \"MAE\", \"Score\": 0.4600306809540478}, {\"Model\": \"rf\", \"Dataset\": \"sentiment\", \"Measure\": \"MAE\", \"Score\": 0.5148146859622154}, {\"Model\": \"gb\", \"Dataset\": \"baseline\", \"Measure\": \"MAE\", \"Score\": 0.49583326177994314}, {\"Model\": \"gb\", \"Dataset\": \"combined\", \"Measure\": \"MAE\", \"Score\": 0.4334113835615428}, {\"Model\": \"gb\", \"Dataset\": \"sentiment\", \"Measure\": \"MAE\", \"Score\": 0.4898060619438723}, {\"Model\": \"lgbm\", \"Dataset\": \"baseline\", \"Measure\": \"MAE\", \"Score\": 0.4960424162093596}, {\"Model\": \"lgbm\", \"Dataset\": \"combined\", \"Measure\": \"MAE\", \"Score\": 0.43998327834385875}, {\"Model\": \"lgbm\", \"Dataset\": \"sentiment\", \"Measure\": \"MAE\", \"Score\": 0.4921848953315028}, {\"Model\": \"xgb\", \"Dataset\": \"baseline\", \"Measure\": \"MAE\", \"Score\": 0.5073135142401195}, {\"Model\": \"xgb\", \"Dataset\": \"combined\", \"Measure\": \"MAE\", \"Score\": 0.45804929155977997}, {\"Model\": \"xgb\", \"Dataset\": \"sentiment\", \"Measure\": \"MAE\", \"Score\": 0.5075577953110997}, {\"Model\": \"mlp\", \"Dataset\": \"baseline\", \"Measure\": \"MAE\", \"Score\": 0.49419036839685093}, {\"Model\": \"mlp\", \"Dataset\": \"combined\", \"Measure\": \"MAE\", \"Score\": 1.0}, {\"Model\": \"mlp\", \"Dataset\": \"sentiment\", \"Measure\": \"MAE\", \"Score\": 0.48695322430311416}, {\"Model\": \"linear\", \"Dataset\": \"baseline\", \"Measure\": \"MSE\", \"Score\": 0.7660386400440855}, {\"Model\": \"linear\", \"Dataset\": \"combined\", \"Measure\": \"MSE\", \"Score\": 0.5478410752308525}, {\"Model\": \"linear\", \"Dataset\": \"sentiment\", \"Measure\": \"MSE\", \"Score\": 0.729534947846356}, {\"Model\": \"rf\", \"Dataset\": \"baseline\", \"Measure\": \"MSE\", \"Score\": 0.9076641197184614}, {\"Model\": \"rf\", \"Dataset\": \"combined\", \"Measure\": \"MSE\", \"Score\": 0.5763585996981986}, {\"Model\": \"rf\", \"Dataset\": \"sentiment\", \"Measure\": \"MSE\", \"Score\": 0.6967843534816943}, {\"Model\": \"gb\", \"Dataset\": \"baseline\", \"Measure\": \"MSE\", \"Score\": 0.6819682754058605}, {\"Model\": \"gb\", \"Dataset\": \"combined\", \"Measure\": \"MSE\", \"Score\": 0.5528518713053833}, {\"Model\": \"gb\", \"Dataset\": \"sentiment\", \"Measure\": \"MSE\", \"Score\": 0.668851625601355}, {\"Model\": \"lgbm\", \"Dataset\": \"baseline\", \"Measure\": \"MSE\", \"Score\": 0.6751750682387677}, {\"Model\": \"lgbm\", \"Dataset\": \"combined\", \"Measure\": \"MSE\", \"Score\": 0.561604129885435}, {\"Model\": \"lgbm\", \"Dataset\": \"sentiment\", \"Measure\": \"MSE\", \"Score\": 0.6699012960036844}, {\"Model\": \"xgb\", \"Dataset\": \"baseline\", \"Measure\": \"MSE\", \"Score\": 0.7173026749565338}, {\"Model\": \"xgb\", \"Dataset\": \"combined\", \"Measure\": \"MSE\", \"Score\": 0.5952634529169237}, {\"Model\": \"xgb\", \"Dataset\": \"sentiment\", \"Measure\": \"MSE\", \"Score\": 0.6968530273527166}, {\"Model\": \"mlp\", \"Dataset\": \"baseline\", \"Measure\": \"MSE\", \"Score\": 0.6715896045018802}, {\"Model\": \"mlp\", \"Dataset\": \"combined\", \"Measure\": \"MSE\", \"Score\": 1.0}, {\"Model\": \"mlp\", \"Dataset\": \"sentiment\", \"Measure\": \"MSE\", \"Score\": 0.6720946986804215}]}}, {\"mode\": \"vega-lite\"});\n</script>",
      "text/plain": "alt.Chart(...)"
     },
     "execution_count": 23,
     "metadata": {},
     "output_type": "execute_result"
    }
   ],
   "source": [
    "offset = 2\n",
    "dataset_mae = convert_altair(datasets[offset]['mae'][['baseline', 'combined', 'sentiment']])\n",
    "dataset_mae.columns = [x.title() for x in dataset_mae.columns]\n",
    "dataset_mae = dataset_mae.rename({\"Score\": \"MAE\"}, axis=1)\n",
    "dataset_mse = convert_altair(datasets[offset]['mse'][['baseline', 'combined', 'sentiment']])\n",
    "dataset_mse.columns = [x.title() for x in dataset_mse.columns]\n",
    "dataset_mse = dataset_mse.rename({\"Score\": \"MSE\"}, axis=1)\n",
    "dataset = pd.merge(left=dataset_mse, right=dataset_mae, left_on=['Model', 'Dataset'], right_on=['Model', 'Dataset'])\n",
    "dataset = pd.melt(dataset, id_vars=['Model','Dataset'], value_vars=['MAE','MSE'], var_name='Measure', value_name='Score')\n",
    "print(dataset)\n",
    "cht = alt.Chart(dataset).mark_bar().encode(\n",
    "    x=alt.X('Model:O', title='', axis=alt.Axis(labelAngle=0)),\n",
    "    xOffset='Measure',\n",
    "    y=alt.Y('sum(Score):Q', title='Error',\n",
    "            scale=alt.Scale(domain=(0, 1), clamp=True)),\n",
    "    color=alt.Color('Measure:N'),\n",
    "    column=alt.Column('Dataset:O', title=''),\n",
    ").properties(\n",
    "    title='14 Hour Ahead Volatility Accuracy',\n",
    ")\n",
    "\n",
    "cht.properties(title='14 Hour Ahead Volatility Accuracy')\n",
    "cht"
   ],
   "metadata": {
    "collapsed": false,
    "ExecuteTime": {
     "end_time": "2023-06-25T04:05:31.898258400Z",
     "start_time": "2023-06-25T04:05:31.849313200Z"
    }
   }
  },
  {
   "cell_type": "code",
   "execution_count": 56,
   "outputs": [
    {
     "name": "stdout",
     "output_type": "stream",
     "text": [
      "   Sentiment Improvement  Technical Improvement  Combined Improvement\n",
      "2               0.006027               0.061235              0.062422\n",
      "3               0.005730               0.064340              0.065537\n",
      "4               0.006171               0.071729              0.072853\n",
      "5               0.007728               0.072226              0.072909\n",
      "6               0.007530               0.080128              0.081648\n",
      "   Sentiment Improvement  Technical Improvement  Combined Improvement\n",
      "2               0.006027               0.061235              0.062422\n",
      "3               0.005730               0.064340              0.065537\n",
      "4               0.006171               0.071729              0.072853\n",
      "5               0.007728               0.072226              0.072909\n",
      "6               0.007530               0.080128              0.081648\n"
     ]
    },
    {
     "data": {
      "text/html": "\n<style>\n  #altair-viz-96c40dc3dc0c495d92b2ac13611067ec.vega-embed {\n    width: 100%;\n    display: flex;\n  }\n\n  #altair-viz-96c40dc3dc0c495d92b2ac13611067ec.vega-embed details,\n  #altair-viz-96c40dc3dc0c495d92b2ac13611067ec.vega-embed details summary {\n    position: relative;\n  }\n</style>\n<div id=\"altair-viz-96c40dc3dc0c495d92b2ac13611067ec\"></div>\n<script type=\"text/javascript\">\n  var VEGA_DEBUG = (typeof VEGA_DEBUG == \"undefined\") ? {} : VEGA_DEBUG;\n  (function(spec, embedOpt){\n    let outputDiv = document.currentScript.previousElementSibling;\n    if (outputDiv.id !== \"altair-viz-96c40dc3dc0c495d92b2ac13611067ec\") {\n      outputDiv = document.getElementById(\"altair-viz-96c40dc3dc0c495d92b2ac13611067ec\");\n    }\n    const paths = {\n      \"vega\": \"https://cdn.jsdelivr.net/npm/vega@5?noext\",\n      \"vega-lib\": \"https://cdn.jsdelivr.net/npm/vega-lib?noext\",\n      \"vega-lite\": \"https://cdn.jsdelivr.net/npm/vega-lite@5.8.0?noext\",\n      \"vega-embed\": \"https://cdn.jsdelivr.net/npm/vega-embed@6?noext\",\n    };\n\n    function maybeLoadScript(lib, version) {\n      var key = `${lib.replace(\"-\", \"\")}_version`;\n      return (VEGA_DEBUG[key] == version) ?\n        Promise.resolve(paths[lib]) :\n        new Promise(function(resolve, reject) {\n          var s = document.createElement('script');\n          document.getElementsByTagName(\"head\")[0].appendChild(s);\n          s.async = true;\n          s.onload = () => {\n            VEGA_DEBUG[key] = version;\n            return resolve(paths[lib]);\n          };\n          s.onerror = () => reject(`Error loading script: ${paths[lib]}`);\n          s.src = paths[lib];\n        });\n    }\n\n    function showError(err) {\n      outputDiv.innerHTML = `<div class=\"error\" style=\"color:red;\">${err}</div>`;\n      throw err;\n    }\n\n    function displayChart(vegaEmbed) {\n      vegaEmbed(outputDiv, spec, embedOpt)\n        .catch(err => showError(`Javascript Error: ${err.message}<br>This usually means there's a typo in your chart specification. See the javascript console for the full traceback.`));\n    }\n\n    if(typeof define === \"function\" && define.amd) {\n      requirejs.config({paths});\n      require([\"vega-embed\"], displayChart, err => showError(`Error loading script: ${err.message}`));\n    } else {\n      maybeLoadScript(\"vega\", \"5\")\n        .then(() => maybeLoadScript(\"vega-lite\", \"5.8.0\"))\n        .then(() => maybeLoadScript(\"vega-embed\", \"6\"))\n        .catch(showError)\n        .then(() => displayChart(vegaEmbed));\n    }\n  })({\"config\": {\"view\": {\"continuousWidth\": 300, \"continuousHeight\": 300}, \"axis\": {\"grid\": false}}, \"repeat\": {\"layer\": [\"Sentiment Improvement\", \"Technical Improvement\", \"Combined Improvement\"]}, \"spec\": {\"data\": {\"name\": \"data-3e764355b8f97d8ad1bc36e09f033cd7\"}, \"mark\": {\"type\": \"point\"}, \"encoding\": {\"color\": {\"datum\": {\"repeat\": \"layer\"}}, \"x\": {\"field\": \"Days Ahead\", \"scale\": {\"domain\": [1, 7]}, \"type\": \"quantitative\"}, \"y\": {\"aggregate\": \"mean\", \"field\": {\"repeat\": \"layer\"}, \"title\": \"MAE decrease\"}}}, \"title\": \"Model Performance Improvement Relative to Baseline\", \"$schema\": \"https://vega.github.io/schema/vega-lite/v5.8.0.json\", \"datasets\": {\"data-3e764355b8f97d8ad1bc36e09f033cd7\": [{\"Days Ahead\": 2, \"Sentiment Improvement\": 0.006027199836070862, \"Technical Improvement\": 0.06123497022714186, \"Combined Improvement\": 0.06242187821840034}, {\"Days Ahead\": 3, \"Sentiment Improvement\": 0.005729889058100235, \"Technical Improvement\": 0.06433985794918762, \"Combined Improvement\": 0.06553679128436807}, {\"Days Ahead\": 4, \"Sentiment Improvement\": 0.006171489777246519, \"Technical Improvement\": 0.07172948805886303, \"Combined Improvement\": 0.07285279480873863}, {\"Days Ahead\": 5, \"Sentiment Improvement\": 0.007727574094669121, \"Technical Improvement\": 0.07222599648953493, \"Combined Improvement\": 0.07290940707829335}, {\"Days Ahead\": 6, \"Sentiment Improvement\": 0.00752965843035569, \"Technical Improvement\": 0.080128341154247, \"Combined Improvement\": 0.08164756093296893}]}}, {\"mode\": \"vega-lite\"});\n</script>",
      "text/plain": "alt.RepeatChart(...)"
     },
     "execution_count": 56,
     "metadata": {},
     "output_type": "execute_result"
    }
   ],
   "source": [
    "improvement = pd.DataFrame()\n",
    "for i in range(2, 7):\n",
    "    df = pd.DataFrame(datasets[i]['mae'][['Sentiment Improvement', 'Technical Improvement', 'Combined Improvement']].iloc[2]).T\n",
    "    df.index = [i]\n",
    "    improvement = pd.concat([improvement, df])\n",
    "print(improvement)\n",
    "\n",
    "improvement.index.name = \"Days Ahead\"\n",
    "improvement = improvement.reset_index()\n",
    "cht_1 = alt.Chart(improvement).mark_point().encode(\n",
    "    x=alt.X(\"Days Ahead\").scale(domain=(1, 7)),\n",
    "    y=alt.Y(\n",
    "        alt.repeat(\"layer\"), aggregate=\"mean\", title=\"MAE decrease\"\n",
    "    ),\n",
    "    color=alt.datum(alt.repeat(\"layer\")),\n",
    ").repeat(layer=[\"Sentiment Improvement\", \"Technical Improvement\", \"Combined Improvement\"]).properties(title='Model Performance Improvement Relative to Baseline').configure_axis(\n",
    "    grid=False\n",
    ")\n",
    "cht_1"
   ],
   "metadata": {
    "collapsed": false,
    "ExecuteTime": {
     "end_time": "2023-06-25T04:31:32.086156300Z",
     "start_time": "2023-06-25T04:31:32.031960200Z"
    }
   }
  },
  {
   "cell_type": "code",
   "execution_count": null,
   "outputs": [],
   "source": [],
   "metadata": {
    "collapsed": false
   }
  },
  {
   "cell_type": "code",
   "execution_count": null,
   "outputs": [],
   "source": [],
   "metadata": {
    "collapsed": false
   }
  },
  {
   "cell_type": "code",
   "execution_count": null,
   "outputs": [],
   "source": [],
   "metadata": {
    "collapsed": false
   }
  }
 ],
 "metadata": {
  "kernelspec": {
   "display_name": "Python 3",
   "language": "python",
   "name": "python3"
  },
  "language_info": {
   "codemirror_mode": {
    "name": "ipython",
    "version": 2
   },
   "file_extension": ".py",
   "mimetype": "text/x-python",
   "name": "python",
   "nbconvert_exporter": "python",
   "pygments_lexer": "ipython2",
   "version": "2.7.6"
  }
 },
 "nbformat": 4,
 "nbformat_minor": 0
}
